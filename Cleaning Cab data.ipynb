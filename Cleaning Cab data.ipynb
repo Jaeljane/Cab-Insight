{
 "cells": [
  {
   "cell_type": "code",
   "execution_count": 1,
   "id": "bef07bfe",
   "metadata": {},
   "outputs": [],
   "source": [
    "import pandas as pd\n",
    "import numpy as np\n",
    "import seaborn as sns\n",
    "import requests\n",
    "import matplotlib.pyplot as plt\n",
    "\n",
    "%matplotlib inline"
   ]
  },
  {
   "cell_type": "code",
   "execution_count": 2,
   "id": "a6f2d6ef",
   "metadata": {},
   "outputs": [
    {
     "data": {
      "text/html": [
       "<div>\n",
       "<style scoped>\n",
       "    .dataframe tbody tr th:only-of-type {\n",
       "        vertical-align: middle;\n",
       "    }\n",
       "\n",
       "    .dataframe tbody tr th {\n",
       "        vertical-align: top;\n",
       "    }\n",
       "\n",
       "    .dataframe thead th {\n",
       "        text-align: right;\n",
       "    }\n",
       "</style>\n",
       "<table border=\"1\" class=\"dataframe\">\n",
       "  <thead>\n",
       "    <tr style=\"text-align: right;\">\n",
       "      <th></th>\n",
       "      <th>Transaction ID</th>\n",
       "      <th>Date of Travel</th>\n",
       "      <th>Company</th>\n",
       "      <th>City</th>\n",
       "      <th>KM Travelled</th>\n",
       "      <th>Price Charged</th>\n",
       "      <th>Cost of Trip</th>\n",
       "    </tr>\n",
       "  </thead>\n",
       "  <tbody>\n",
       "    <tr>\n",
       "      <th>0</th>\n",
       "      <td>10000011</td>\n",
       "      <td>42377</td>\n",
       "      <td>Pink Cab</td>\n",
       "      <td>ATLANTA GA</td>\n",
       "      <td>30.45</td>\n",
       "      <td>370.95</td>\n",
       "      <td>313.635</td>\n",
       "    </tr>\n",
       "    <tr>\n",
       "      <th>1</th>\n",
       "      <td>10000012</td>\n",
       "      <td>42375</td>\n",
       "      <td>Pink Cab</td>\n",
       "      <td>ATLANTA GA</td>\n",
       "      <td>28.62</td>\n",
       "      <td>358.52</td>\n",
       "      <td>334.854</td>\n",
       "    </tr>\n",
       "    <tr>\n",
       "      <th>2</th>\n",
       "      <td>10000013</td>\n",
       "      <td>42371</td>\n",
       "      <td>Pink Cab</td>\n",
       "      <td>ATLANTA GA</td>\n",
       "      <td>9.04</td>\n",
       "      <td>125.20</td>\n",
       "      <td>97.632</td>\n",
       "    </tr>\n",
       "    <tr>\n",
       "      <th>3</th>\n",
       "      <td>10000014</td>\n",
       "      <td>42376</td>\n",
       "      <td>Pink Cab</td>\n",
       "      <td>ATLANTA GA</td>\n",
       "      <td>33.17</td>\n",
       "      <td>377.40</td>\n",
       "      <td>351.602</td>\n",
       "    </tr>\n",
       "    <tr>\n",
       "      <th>4</th>\n",
       "      <td>10000015</td>\n",
       "      <td>42372</td>\n",
       "      <td>Pink Cab</td>\n",
       "      <td>ATLANTA GA</td>\n",
       "      <td>8.73</td>\n",
       "      <td>114.62</td>\n",
       "      <td>97.776</td>\n",
       "    </tr>\n",
       "  </tbody>\n",
       "</table>\n",
       "</div>"
      ],
      "text/plain": [
       "   Transaction ID  Date of Travel   Company        City  KM Travelled  \\\n",
       "0        10000011           42377  Pink Cab  ATLANTA GA         30.45   \n",
       "1        10000012           42375  Pink Cab  ATLANTA GA         28.62   \n",
       "2        10000013           42371  Pink Cab  ATLANTA GA          9.04   \n",
       "3        10000014           42376  Pink Cab  ATLANTA GA         33.17   \n",
       "4        10000015           42372  Pink Cab  ATLANTA GA          8.73   \n",
       "\n",
       "   Price Charged  Cost of Trip  \n",
       "0         370.95       313.635  \n",
       "1         358.52       334.854  \n",
       "2         125.20        97.632  \n",
       "3         377.40       351.602  \n",
       "4         114.62        97.776  "
      ]
     },
     "execution_count": 2,
     "metadata": {},
     "output_type": "execute_result"
    }
   ],
   "source": [
    "url='https://raw.githubusercontent.com/DataGlacier/DataSets/main/Cab_Data.csv'\n",
    "cab=pd.read_csv(url, parse_dates=True)\n",
    "cab.head()"
   ]
  },
  {
   "cell_type": "code",
   "execution_count": 3,
   "id": "e15ffa09",
   "metadata": {},
   "outputs": [
    {
     "name": "stdout",
     "output_type": "stream",
     "text": [
      "(359392, 7)\n",
      "<class 'pandas.core.frame.DataFrame'>\n",
      "RangeIndex: 359392 entries, 0 to 359391\n",
      "Data columns (total 7 columns):\n",
      " #   Column          Non-Null Count   Dtype  \n",
      "---  ------          --------------   -----  \n",
      " 0   Transaction ID  359392 non-null  int64  \n",
      " 1   Date of Travel  359392 non-null  int64  \n",
      " 2   Company         359392 non-null  object \n",
      " 3   City            359392 non-null  object \n",
      " 4   KM Travelled    359392 non-null  float64\n",
      " 5   Price Charged   359392 non-null  float64\n",
      " 6   Cost of Trip    359392 non-null  float64\n",
      "dtypes: float64(3), int64(2), object(2)\n",
      "memory usage: 19.2+ MB\n"
     ]
    }
   ],
   "source": [
    "print(cab.shape)\n",
    "cab.info()"
   ]
  },
  {
   "cell_type": "code",
   "execution_count": 4,
   "id": "a24195da",
   "metadata": {},
   "outputs": [
    {
     "data": {
      "text/html": [
       "<div>\n",
       "<style scoped>\n",
       "    .dataframe tbody tr th:only-of-type {\n",
       "        vertical-align: middle;\n",
       "    }\n",
       "\n",
       "    .dataframe tbody tr th {\n",
       "        vertical-align: top;\n",
       "    }\n",
       "\n",
       "    .dataframe thead th {\n",
       "        text-align: right;\n",
       "    }\n",
       "</style>\n",
       "<table border=\"1\" class=\"dataframe\">\n",
       "  <thead>\n",
       "    <tr style=\"text-align: right;\">\n",
       "      <th></th>\n",
       "      <th>Transaction ID</th>\n",
       "      <th>Date of Travel</th>\n",
       "      <th>KM Travelled</th>\n",
       "      <th>Price Charged</th>\n",
       "      <th>Cost of Trip</th>\n",
       "    </tr>\n",
       "  </thead>\n",
       "  <tbody>\n",
       "    <tr>\n",
       "      <th>count</th>\n",
       "      <td>3.593920e+05</td>\n",
       "      <td>359392.000000</td>\n",
       "      <td>359392.000000</td>\n",
       "      <td>359392.000000</td>\n",
       "      <td>359392.000000</td>\n",
       "    </tr>\n",
       "    <tr>\n",
       "      <th>mean</th>\n",
       "      <td>1.022076e+07</td>\n",
       "      <td>42964.067998</td>\n",
       "      <td>22.567254</td>\n",
       "      <td>423.443311</td>\n",
       "      <td>286.190113</td>\n",
       "    </tr>\n",
       "    <tr>\n",
       "      <th>std</th>\n",
       "      <td>1.268058e+05</td>\n",
       "      <td>307.467197</td>\n",
       "      <td>12.233526</td>\n",
       "      <td>274.378911</td>\n",
       "      <td>157.993661</td>\n",
       "    </tr>\n",
       "    <tr>\n",
       "      <th>min</th>\n",
       "      <td>1.000001e+07</td>\n",
       "      <td>42371.000000</td>\n",
       "      <td>1.900000</td>\n",
       "      <td>15.600000</td>\n",
       "      <td>19.000000</td>\n",
       "    </tr>\n",
       "    <tr>\n",
       "      <th>25%</th>\n",
       "      <td>1.011081e+07</td>\n",
       "      <td>42697.000000</td>\n",
       "      <td>12.000000</td>\n",
       "      <td>206.437500</td>\n",
       "      <td>151.200000</td>\n",
       "    </tr>\n",
       "    <tr>\n",
       "      <th>50%</th>\n",
       "      <td>1.022104e+07</td>\n",
       "      <td>42988.000000</td>\n",
       "      <td>22.440000</td>\n",
       "      <td>386.360000</td>\n",
       "      <td>282.480000</td>\n",
       "    </tr>\n",
       "    <tr>\n",
       "      <th>75%</th>\n",
       "      <td>1.033094e+07</td>\n",
       "      <td>43232.000000</td>\n",
       "      <td>32.960000</td>\n",
       "      <td>583.660000</td>\n",
       "      <td>413.683200</td>\n",
       "    </tr>\n",
       "    <tr>\n",
       "      <th>max</th>\n",
       "      <td>1.044011e+07</td>\n",
       "      <td>43465.000000</td>\n",
       "      <td>48.000000</td>\n",
       "      <td>2048.030000</td>\n",
       "      <td>691.200000</td>\n",
       "    </tr>\n",
       "  </tbody>\n",
       "</table>\n",
       "</div>"
      ],
      "text/plain": [
       "       Transaction ID  Date of Travel   KM Travelled  Price Charged  \\\n",
       "count    3.593920e+05   359392.000000  359392.000000  359392.000000   \n",
       "mean     1.022076e+07    42964.067998      22.567254     423.443311   \n",
       "std      1.268058e+05      307.467197      12.233526     274.378911   \n",
       "min      1.000001e+07    42371.000000       1.900000      15.600000   \n",
       "25%      1.011081e+07    42697.000000      12.000000     206.437500   \n",
       "50%      1.022104e+07    42988.000000      22.440000     386.360000   \n",
       "75%      1.033094e+07    43232.000000      32.960000     583.660000   \n",
       "max      1.044011e+07    43465.000000      48.000000    2048.030000   \n",
       "\n",
       "        Cost of Trip  \n",
       "count  359392.000000  \n",
       "mean      286.190113  \n",
       "std       157.993661  \n",
       "min        19.000000  \n",
       "25%       151.200000  \n",
       "50%       282.480000  \n",
       "75%       413.683200  \n",
       "max       691.200000  "
      ]
     },
     "execution_count": 4,
     "metadata": {},
     "output_type": "execute_result"
    }
   ],
   "source": [
    "cab.describe()"
   ]
  },
  {
   "cell_type": "code",
   "execution_count": 5,
   "id": "8f4d0a04",
   "metadata": {},
   "outputs": [
    {
     "data": {
      "text/html": [
       "<div>\n",
       "<style scoped>\n",
       "    .dataframe tbody tr th:only-of-type {\n",
       "        vertical-align: middle;\n",
       "    }\n",
       "\n",
       "    .dataframe tbody tr th {\n",
       "        vertical-align: top;\n",
       "    }\n",
       "\n",
       "    .dataframe thead th {\n",
       "        text-align: right;\n",
       "    }\n",
       "</style>\n",
       "<table border=\"1\" class=\"dataframe\">\n",
       "  <thead>\n",
       "    <tr style=\"text-align: right;\">\n",
       "      <th></th>\n",
       "      <th>City</th>\n",
       "      <th>Population</th>\n",
       "      <th>Users</th>\n",
       "    </tr>\n",
       "  </thead>\n",
       "  <tbody>\n",
       "    <tr>\n",
       "      <th>0</th>\n",
       "      <td>NEW YORK NY</td>\n",
       "      <td>8,405,837</td>\n",
       "      <td>302,149</td>\n",
       "    </tr>\n",
       "    <tr>\n",
       "      <th>1</th>\n",
       "      <td>CHICAGO IL</td>\n",
       "      <td>1,955,130</td>\n",
       "      <td>164,468</td>\n",
       "    </tr>\n",
       "    <tr>\n",
       "      <th>2</th>\n",
       "      <td>LOS ANGELES CA</td>\n",
       "      <td>1,595,037</td>\n",
       "      <td>144,132</td>\n",
       "    </tr>\n",
       "    <tr>\n",
       "      <th>3</th>\n",
       "      <td>MIAMI FL</td>\n",
       "      <td>1,339,155</td>\n",
       "      <td>17,675</td>\n",
       "    </tr>\n",
       "    <tr>\n",
       "      <th>4</th>\n",
       "      <td>SILICON VALLEY</td>\n",
       "      <td>1,177,609</td>\n",
       "      <td>27,247</td>\n",
       "    </tr>\n",
       "  </tbody>\n",
       "</table>\n",
       "</div>"
      ],
      "text/plain": [
       "             City   Population      Users\n",
       "0     NEW YORK NY   8,405,837    302,149 \n",
       "1      CHICAGO IL   1,955,130    164,468 \n",
       "2  LOS ANGELES CA   1,595,037    144,132 \n",
       "3        MIAMI FL   1,339,155     17,675 \n",
       "4  SILICON VALLEY   1,177,609     27,247 "
      ]
     },
     "execution_count": 5,
     "metadata": {},
     "output_type": "execute_result"
    }
   ],
   "source": [
    "url='https://raw.githubusercontent.com/DataGlacier/DataSets/main/City.csv'\n",
    "city=pd.read_csv(url)\n",
    "city.head()"
   ]
  },
  {
   "cell_type": "code",
   "execution_count": 6,
   "id": "9dc848b2",
   "metadata": {},
   "outputs": [
    {
     "data": {
      "text/plain": [
       "NEW YORK NY         1\n",
       "CHICAGO IL          1\n",
       "NASHVILLE TN        1\n",
       "WASHINGTON DC       1\n",
       "PITTSBURGH PA       1\n",
       "SACRAMENTO CA       1\n",
       "SAN FRANCISCO CA    1\n",
       "TUCSON AZ           1\n",
       "SEATTLE WA          1\n",
       "AUSTIN TX           1\n",
       "DENVER CO           1\n",
       "ATLANTA GA          1\n",
       "DALLAS TX           1\n",
       "PHOENIX AZ          1\n",
       "SAN DIEGO CA        1\n",
       "ORANGE COUNTY       1\n",
       "SILICON VALLEY      1\n",
       "MIAMI FL            1\n",
       "LOS ANGELES CA      1\n",
       "BOSTON MA           1\n",
       "Name: City, dtype: int64"
      ]
     },
     "execution_count": 6,
     "metadata": {},
     "output_type": "execute_result"
    }
   ],
   "source": [
    "city['City'].value_counts()"
   ]
  },
  {
   "cell_type": "code",
   "execution_count": 7,
   "id": "8e520a24",
   "metadata": {},
   "outputs": [
    {
     "name": "stdout",
     "output_type": "stream",
     "text": [
      "(49171, 4)\n"
     ]
    },
    {
     "data": {
      "text/html": [
       "<div>\n",
       "<style scoped>\n",
       "    .dataframe tbody tr th:only-of-type {\n",
       "        vertical-align: middle;\n",
       "    }\n",
       "\n",
       "    .dataframe tbody tr th {\n",
       "        vertical-align: top;\n",
       "    }\n",
       "\n",
       "    .dataframe thead th {\n",
       "        text-align: right;\n",
       "    }\n",
       "</style>\n",
       "<table border=\"1\" class=\"dataframe\">\n",
       "  <thead>\n",
       "    <tr style=\"text-align: right;\">\n",
       "      <th></th>\n",
       "      <th>Customer ID</th>\n",
       "      <th>Gender</th>\n",
       "      <th>Age</th>\n",
       "      <th>Income (USD/Month)</th>\n",
       "    </tr>\n",
       "  </thead>\n",
       "  <tbody>\n",
       "    <tr>\n",
       "      <th>0</th>\n",
       "      <td>29290</td>\n",
       "      <td>Male</td>\n",
       "      <td>28</td>\n",
       "      <td>10813</td>\n",
       "    </tr>\n",
       "    <tr>\n",
       "      <th>1</th>\n",
       "      <td>27703</td>\n",
       "      <td>Male</td>\n",
       "      <td>27</td>\n",
       "      <td>9237</td>\n",
       "    </tr>\n",
       "    <tr>\n",
       "      <th>2</th>\n",
       "      <td>28712</td>\n",
       "      <td>Male</td>\n",
       "      <td>53</td>\n",
       "      <td>11242</td>\n",
       "    </tr>\n",
       "    <tr>\n",
       "      <th>3</th>\n",
       "      <td>28020</td>\n",
       "      <td>Male</td>\n",
       "      <td>23</td>\n",
       "      <td>23327</td>\n",
       "    </tr>\n",
       "    <tr>\n",
       "      <th>4</th>\n",
       "      <td>27182</td>\n",
       "      <td>Male</td>\n",
       "      <td>33</td>\n",
       "      <td>8536</td>\n",
       "    </tr>\n",
       "  </tbody>\n",
       "</table>\n",
       "</div>"
      ],
      "text/plain": [
       "   Customer ID Gender  Age  Income (USD/Month)\n",
       "0        29290   Male   28               10813\n",
       "1        27703   Male   27                9237\n",
       "2        28712   Male   53               11242\n",
       "3        28020   Male   23               23327\n",
       "4        27182   Male   33                8536"
      ]
     },
     "execution_count": 7,
     "metadata": {},
     "output_type": "execute_result"
    }
   ],
   "source": [
    "#import customer data\n",
    "url='https://raw.githubusercontent.com/DataGlacier/DataSets/main/Customer_ID.csv'\n",
    "customer=pd.read_csv(url)\n",
    "print(customer.shape)\n",
    "customer.head()"
   ]
  },
  {
   "cell_type": "code",
   "execution_count": 8,
   "id": "00140045",
   "metadata": {},
   "outputs": [
    {
     "data": {
      "text/html": [
       "<div>\n",
       "<style scoped>\n",
       "    .dataframe tbody tr th:only-of-type {\n",
       "        vertical-align: middle;\n",
       "    }\n",
       "\n",
       "    .dataframe tbody tr th {\n",
       "        vertical-align: top;\n",
       "    }\n",
       "\n",
       "    .dataframe thead th {\n",
       "        text-align: right;\n",
       "    }\n",
       "</style>\n",
       "<table border=\"1\" class=\"dataframe\">\n",
       "  <thead>\n",
       "    <tr style=\"text-align: right;\">\n",
       "      <th></th>\n",
       "      <th>Transaction ID</th>\n",
       "      <th>Customer ID</th>\n",
       "      <th>Payment_Mode</th>\n",
       "    </tr>\n",
       "  </thead>\n",
       "  <tbody>\n",
       "    <tr>\n",
       "      <th>0</th>\n",
       "      <td>10000011</td>\n",
       "      <td>29290</td>\n",
       "      <td>Card</td>\n",
       "    </tr>\n",
       "    <tr>\n",
       "      <th>1</th>\n",
       "      <td>10000012</td>\n",
       "      <td>27703</td>\n",
       "      <td>Card</td>\n",
       "    </tr>\n",
       "    <tr>\n",
       "      <th>2</th>\n",
       "      <td>10000013</td>\n",
       "      <td>28712</td>\n",
       "      <td>Cash</td>\n",
       "    </tr>\n",
       "    <tr>\n",
       "      <th>3</th>\n",
       "      <td>10000014</td>\n",
       "      <td>28020</td>\n",
       "      <td>Cash</td>\n",
       "    </tr>\n",
       "    <tr>\n",
       "      <th>4</th>\n",
       "      <td>10000015</td>\n",
       "      <td>27182</td>\n",
       "      <td>Card</td>\n",
       "    </tr>\n",
       "  </tbody>\n",
       "</table>\n",
       "</div>"
      ],
      "text/plain": [
       "   Transaction ID  Customer ID Payment_Mode\n",
       "0        10000011        29290         Card\n",
       "1        10000012        27703         Card\n",
       "2        10000013        28712         Cash\n",
       "3        10000014        28020         Cash\n",
       "4        10000015        27182         Card"
      ]
     },
     "execution_count": 8,
     "metadata": {},
     "output_type": "execute_result"
    }
   ],
   "source": [
    "#import transaction data\n",
    "url='https://raw.githubusercontent.com/DataGlacier/DataSets/main/Transaction_ID.csv'\n",
    "trans=pd.read_csv(url)\n",
    "trans.head()"
   ]
  },
  {
   "cell_type": "code",
   "execution_count": 9,
   "id": "57aaaad7",
   "metadata": {},
   "outputs": [
    {
     "name": "stdout",
     "output_type": "stream",
     "text": [
      "(440098, 3)\n",
      "<class 'pandas.core.frame.DataFrame'>\n",
      "RangeIndex: 440098 entries, 0 to 440097\n",
      "Data columns (total 3 columns):\n",
      " #   Column          Non-Null Count   Dtype \n",
      "---  ------          --------------   ----- \n",
      " 0   Transaction ID  440098 non-null  int64 \n",
      " 1   Customer ID     440098 non-null  int64 \n",
      " 2   Payment_Mode    440098 non-null  object\n",
      "dtypes: int64(2), object(1)\n",
      "memory usage: 10.1+ MB\n"
     ]
    }
   ],
   "source": [
    "print(trans.shape)\n",
    "trans.info()"
   ]
  },
  {
   "cell_type": "markdown",
   "id": "37ac99b6",
   "metadata": {},
   "source": [
    "### Merge the different data sets"
   ]
  },
  {
   "cell_type": "markdown",
   "id": "a28f950b",
   "metadata": {},
   "source": [
    "#### Merge Cab with transaction data"
   ]
  },
  {
   "cell_type": "code",
   "execution_count": 10,
   "id": "abc6e84c",
   "metadata": {},
   "outputs": [
    {
     "data": {
      "text/html": [
       "<div>\n",
       "<style scoped>\n",
       "    .dataframe tbody tr th:only-of-type {\n",
       "        vertical-align: middle;\n",
       "    }\n",
       "\n",
       "    .dataframe tbody tr th {\n",
       "        vertical-align: top;\n",
       "    }\n",
       "\n",
       "    .dataframe thead th {\n",
       "        text-align: right;\n",
       "    }\n",
       "</style>\n",
       "<table border=\"1\" class=\"dataframe\">\n",
       "  <thead>\n",
       "    <tr style=\"text-align: right;\">\n",
       "      <th></th>\n",
       "      <th>Transaction ID</th>\n",
       "      <th>Date of Travel</th>\n",
       "      <th>Company</th>\n",
       "      <th>City</th>\n",
       "      <th>KM Travelled</th>\n",
       "      <th>Price Charged</th>\n",
       "      <th>Cost of Trip</th>\n",
       "      <th>Customer ID</th>\n",
       "      <th>Payment_Mode</th>\n",
       "    </tr>\n",
       "  </thead>\n",
       "  <tbody>\n",
       "    <tr>\n",
       "      <th>0</th>\n",
       "      <td>10000011</td>\n",
       "      <td>42377</td>\n",
       "      <td>Pink Cab</td>\n",
       "      <td>ATLANTA GA</td>\n",
       "      <td>30.45</td>\n",
       "      <td>370.95</td>\n",
       "      <td>313.635</td>\n",
       "      <td>29290</td>\n",
       "      <td>Card</td>\n",
       "    </tr>\n",
       "    <tr>\n",
       "      <th>1</th>\n",
       "      <td>10000012</td>\n",
       "      <td>42375</td>\n",
       "      <td>Pink Cab</td>\n",
       "      <td>ATLANTA GA</td>\n",
       "      <td>28.62</td>\n",
       "      <td>358.52</td>\n",
       "      <td>334.854</td>\n",
       "      <td>27703</td>\n",
       "      <td>Card</td>\n",
       "    </tr>\n",
       "    <tr>\n",
       "      <th>2</th>\n",
       "      <td>10000013</td>\n",
       "      <td>42371</td>\n",
       "      <td>Pink Cab</td>\n",
       "      <td>ATLANTA GA</td>\n",
       "      <td>9.04</td>\n",
       "      <td>125.20</td>\n",
       "      <td>97.632</td>\n",
       "      <td>28712</td>\n",
       "      <td>Cash</td>\n",
       "    </tr>\n",
       "    <tr>\n",
       "      <th>3</th>\n",
       "      <td>10000014</td>\n",
       "      <td>42376</td>\n",
       "      <td>Pink Cab</td>\n",
       "      <td>ATLANTA GA</td>\n",
       "      <td>33.17</td>\n",
       "      <td>377.40</td>\n",
       "      <td>351.602</td>\n",
       "      <td>28020</td>\n",
       "      <td>Cash</td>\n",
       "    </tr>\n",
       "    <tr>\n",
       "      <th>4</th>\n",
       "      <td>10000015</td>\n",
       "      <td>42372</td>\n",
       "      <td>Pink Cab</td>\n",
       "      <td>ATLANTA GA</td>\n",
       "      <td>8.73</td>\n",
       "      <td>114.62</td>\n",
       "      <td>97.776</td>\n",
       "      <td>27182</td>\n",
       "      <td>Card</td>\n",
       "    </tr>\n",
       "  </tbody>\n",
       "</table>\n",
       "</div>"
      ],
      "text/plain": [
       "   Transaction ID  Date of Travel   Company        City  KM Travelled  \\\n",
       "0        10000011           42377  Pink Cab  ATLANTA GA         30.45   \n",
       "1        10000012           42375  Pink Cab  ATLANTA GA         28.62   \n",
       "2        10000013           42371  Pink Cab  ATLANTA GA          9.04   \n",
       "3        10000014           42376  Pink Cab  ATLANTA GA         33.17   \n",
       "4        10000015           42372  Pink Cab  ATLANTA GA          8.73   \n",
       "\n",
       "   Price Charged  Cost of Trip  Customer ID Payment_Mode  \n",
       "0         370.95       313.635        29290         Card  \n",
       "1         358.52       334.854        27703         Card  \n",
       "2         125.20        97.632        28712         Cash  \n",
       "3         377.40       351.602        28020         Cash  \n",
       "4         114.62        97.776        27182         Card  "
      ]
     },
     "execution_count": 10,
     "metadata": {},
     "output_type": "execute_result"
    }
   ],
   "source": [
    "cab_trans=cab.merge(trans, on='Transaction ID', how='left')\n",
    "cab_trans.head()"
   ]
  },
  {
   "cell_type": "markdown",
   "id": "d334318b",
   "metadata": {},
   "source": [
    "#### Merge Cab with customer data"
   ]
  },
  {
   "cell_type": "code",
   "execution_count": 11,
   "id": "23d43f8d",
   "metadata": {},
   "outputs": [
    {
     "data": {
      "text/html": [
       "<div>\n",
       "<style scoped>\n",
       "    .dataframe tbody tr th:only-of-type {\n",
       "        vertical-align: middle;\n",
       "    }\n",
       "\n",
       "    .dataframe tbody tr th {\n",
       "        vertical-align: top;\n",
       "    }\n",
       "\n",
       "    .dataframe thead th {\n",
       "        text-align: right;\n",
       "    }\n",
       "</style>\n",
       "<table border=\"1\" class=\"dataframe\">\n",
       "  <thead>\n",
       "    <tr style=\"text-align: right;\">\n",
       "      <th></th>\n",
       "      <th>Transaction ID</th>\n",
       "      <th>Date of Travel</th>\n",
       "      <th>Company</th>\n",
       "      <th>City</th>\n",
       "      <th>KM Travelled</th>\n",
       "      <th>Price Charged</th>\n",
       "      <th>Cost of Trip</th>\n",
       "      <th>Customer ID</th>\n",
       "      <th>Payment_Mode</th>\n",
       "      <th>Gender</th>\n",
       "      <th>Age</th>\n",
       "      <th>Income (USD/Month)</th>\n",
       "    </tr>\n",
       "  </thead>\n",
       "  <tbody>\n",
       "    <tr>\n",
       "      <th>0</th>\n",
       "      <td>10000011</td>\n",
       "      <td>42377</td>\n",
       "      <td>Pink Cab</td>\n",
       "      <td>ATLANTA GA</td>\n",
       "      <td>30.45</td>\n",
       "      <td>370.95</td>\n",
       "      <td>313.635</td>\n",
       "      <td>29290</td>\n",
       "      <td>Card</td>\n",
       "      <td>Male</td>\n",
       "      <td>28</td>\n",
       "      <td>10813</td>\n",
       "    </tr>\n",
       "    <tr>\n",
       "      <th>1</th>\n",
       "      <td>10000012</td>\n",
       "      <td>42375</td>\n",
       "      <td>Pink Cab</td>\n",
       "      <td>ATLANTA GA</td>\n",
       "      <td>28.62</td>\n",
       "      <td>358.52</td>\n",
       "      <td>334.854</td>\n",
       "      <td>27703</td>\n",
       "      <td>Card</td>\n",
       "      <td>Male</td>\n",
       "      <td>27</td>\n",
       "      <td>9237</td>\n",
       "    </tr>\n",
       "    <tr>\n",
       "      <th>2</th>\n",
       "      <td>10000013</td>\n",
       "      <td>42371</td>\n",
       "      <td>Pink Cab</td>\n",
       "      <td>ATLANTA GA</td>\n",
       "      <td>9.04</td>\n",
       "      <td>125.20</td>\n",
       "      <td>97.632</td>\n",
       "      <td>28712</td>\n",
       "      <td>Cash</td>\n",
       "      <td>Male</td>\n",
       "      <td>53</td>\n",
       "      <td>11242</td>\n",
       "    </tr>\n",
       "    <tr>\n",
       "      <th>3</th>\n",
       "      <td>10000014</td>\n",
       "      <td>42376</td>\n",
       "      <td>Pink Cab</td>\n",
       "      <td>ATLANTA GA</td>\n",
       "      <td>33.17</td>\n",
       "      <td>377.40</td>\n",
       "      <td>351.602</td>\n",
       "      <td>28020</td>\n",
       "      <td>Cash</td>\n",
       "      <td>Male</td>\n",
       "      <td>23</td>\n",
       "      <td>23327</td>\n",
       "    </tr>\n",
       "    <tr>\n",
       "      <th>4</th>\n",
       "      <td>10000015</td>\n",
       "      <td>42372</td>\n",
       "      <td>Pink Cab</td>\n",
       "      <td>ATLANTA GA</td>\n",
       "      <td>8.73</td>\n",
       "      <td>114.62</td>\n",
       "      <td>97.776</td>\n",
       "      <td>27182</td>\n",
       "      <td>Card</td>\n",
       "      <td>Male</td>\n",
       "      <td>33</td>\n",
       "      <td>8536</td>\n",
       "    </tr>\n",
       "  </tbody>\n",
       "</table>\n",
       "</div>"
      ],
      "text/plain": [
       "   Transaction ID  Date of Travel   Company        City  KM Travelled  \\\n",
       "0        10000011           42377  Pink Cab  ATLANTA GA         30.45   \n",
       "1        10000012           42375  Pink Cab  ATLANTA GA         28.62   \n",
       "2        10000013           42371  Pink Cab  ATLANTA GA          9.04   \n",
       "3        10000014           42376  Pink Cab  ATLANTA GA         33.17   \n",
       "4        10000015           42372  Pink Cab  ATLANTA GA          8.73   \n",
       "\n",
       "   Price Charged  Cost of Trip  Customer ID Payment_Mode Gender  Age  \\\n",
       "0         370.95       313.635        29290         Card   Male   28   \n",
       "1         358.52       334.854        27703         Card   Male   27   \n",
       "2         125.20        97.632        28712         Cash   Male   53   \n",
       "3         377.40       351.602        28020         Cash   Male   23   \n",
       "4         114.62        97.776        27182         Card   Male   33   \n",
       "\n",
       "   Income (USD/Month)  \n",
       "0               10813  \n",
       "1                9237  \n",
       "2               11242  \n",
       "3               23327  \n",
       "4                8536  "
      ]
     },
     "execution_count": 11,
     "metadata": {},
     "output_type": "execute_result"
    }
   ],
   "source": [
    "df=cab_trans.merge(customer, on='Customer ID', how='left')\n",
    "df.head()"
   ]
  },
  {
   "cell_type": "markdown",
   "id": "b78cd937",
   "metadata": {},
   "source": [
    "#### Merge cab with city data"
   ]
  },
  {
   "cell_type": "code",
   "execution_count": 12,
   "id": "5f8100a8",
   "metadata": {},
   "outputs": [
    {
     "data": {
      "text/html": [
       "<div>\n",
       "<style scoped>\n",
       "    .dataframe tbody tr th:only-of-type {\n",
       "        vertical-align: middle;\n",
       "    }\n",
       "\n",
       "    .dataframe tbody tr th {\n",
       "        vertical-align: top;\n",
       "    }\n",
       "\n",
       "    .dataframe thead th {\n",
       "        text-align: right;\n",
       "    }\n",
       "</style>\n",
       "<table border=\"1\" class=\"dataframe\">\n",
       "  <thead>\n",
       "    <tr style=\"text-align: right;\">\n",
       "      <th></th>\n",
       "      <th>Transaction ID</th>\n",
       "      <th>Date of Travel</th>\n",
       "      <th>Company</th>\n",
       "      <th>City</th>\n",
       "      <th>KM Travelled</th>\n",
       "      <th>Price Charged</th>\n",
       "      <th>Cost of Trip</th>\n",
       "      <th>Customer ID</th>\n",
       "      <th>Payment_Mode</th>\n",
       "      <th>Gender</th>\n",
       "      <th>Age</th>\n",
       "      <th>Income (USD/Month)</th>\n",
       "      <th>Population</th>\n",
       "      <th>Users</th>\n",
       "    </tr>\n",
       "  </thead>\n",
       "  <tbody>\n",
       "    <tr>\n",
       "      <th>0</th>\n",
       "      <td>10000011</td>\n",
       "      <td>42377</td>\n",
       "      <td>Pink Cab</td>\n",
       "      <td>ATLANTA GA</td>\n",
       "      <td>30.45</td>\n",
       "      <td>370.95</td>\n",
       "      <td>313.635</td>\n",
       "      <td>29290</td>\n",
       "      <td>Card</td>\n",
       "      <td>Male</td>\n",
       "      <td>28</td>\n",
       "      <td>10813</td>\n",
       "      <td>814,885</td>\n",
       "      <td>24,701</td>\n",
       "    </tr>\n",
       "    <tr>\n",
       "      <th>1</th>\n",
       "      <td>10000012</td>\n",
       "      <td>42375</td>\n",
       "      <td>Pink Cab</td>\n",
       "      <td>ATLANTA GA</td>\n",
       "      <td>28.62</td>\n",
       "      <td>358.52</td>\n",
       "      <td>334.854</td>\n",
       "      <td>27703</td>\n",
       "      <td>Card</td>\n",
       "      <td>Male</td>\n",
       "      <td>27</td>\n",
       "      <td>9237</td>\n",
       "      <td>814,885</td>\n",
       "      <td>24,701</td>\n",
       "    </tr>\n",
       "    <tr>\n",
       "      <th>2</th>\n",
       "      <td>10000013</td>\n",
       "      <td>42371</td>\n",
       "      <td>Pink Cab</td>\n",
       "      <td>ATLANTA GA</td>\n",
       "      <td>9.04</td>\n",
       "      <td>125.20</td>\n",
       "      <td>97.632</td>\n",
       "      <td>28712</td>\n",
       "      <td>Cash</td>\n",
       "      <td>Male</td>\n",
       "      <td>53</td>\n",
       "      <td>11242</td>\n",
       "      <td>814,885</td>\n",
       "      <td>24,701</td>\n",
       "    </tr>\n",
       "    <tr>\n",
       "      <th>3</th>\n",
       "      <td>10000014</td>\n",
       "      <td>42376</td>\n",
       "      <td>Pink Cab</td>\n",
       "      <td>ATLANTA GA</td>\n",
       "      <td>33.17</td>\n",
       "      <td>377.40</td>\n",
       "      <td>351.602</td>\n",
       "      <td>28020</td>\n",
       "      <td>Cash</td>\n",
       "      <td>Male</td>\n",
       "      <td>23</td>\n",
       "      <td>23327</td>\n",
       "      <td>814,885</td>\n",
       "      <td>24,701</td>\n",
       "    </tr>\n",
       "    <tr>\n",
       "      <th>4</th>\n",
       "      <td>10000015</td>\n",
       "      <td>42372</td>\n",
       "      <td>Pink Cab</td>\n",
       "      <td>ATLANTA GA</td>\n",
       "      <td>8.73</td>\n",
       "      <td>114.62</td>\n",
       "      <td>97.776</td>\n",
       "      <td>27182</td>\n",
       "      <td>Card</td>\n",
       "      <td>Male</td>\n",
       "      <td>33</td>\n",
       "      <td>8536</td>\n",
       "      <td>814,885</td>\n",
       "      <td>24,701</td>\n",
       "    </tr>\n",
       "  </tbody>\n",
       "</table>\n",
       "</div>"
      ],
      "text/plain": [
       "   Transaction ID  Date of Travel   Company        City  KM Travelled  \\\n",
       "0        10000011           42377  Pink Cab  ATLANTA GA         30.45   \n",
       "1        10000012           42375  Pink Cab  ATLANTA GA         28.62   \n",
       "2        10000013           42371  Pink Cab  ATLANTA GA          9.04   \n",
       "3        10000014           42376  Pink Cab  ATLANTA GA         33.17   \n",
       "4        10000015           42372  Pink Cab  ATLANTA GA          8.73   \n",
       "\n",
       "   Price Charged  Cost of Trip  Customer ID Payment_Mode Gender  Age  \\\n",
       "0         370.95       313.635        29290         Card   Male   28   \n",
       "1         358.52       334.854        27703         Card   Male   27   \n",
       "2         125.20        97.632        28712         Cash   Male   53   \n",
       "3         377.40       351.602        28020         Cash   Male   23   \n",
       "4         114.62        97.776        27182         Card   Male   33   \n",
       "\n",
       "   Income (USD/Month) Population     Users  \n",
       "0               10813   814,885    24,701   \n",
       "1                9237   814,885    24,701   \n",
       "2               11242   814,885    24,701   \n",
       "3               23327   814,885    24,701   \n",
       "4                8536   814,885    24,701   "
      ]
     },
     "execution_count": 12,
     "metadata": {},
     "output_type": "execute_result"
    }
   ],
   "source": [
    "df=df.merge(city, on='City', how='left')\n",
    "df.head()"
   ]
  },
  {
   "cell_type": "markdown",
   "id": "6f7adfae",
   "metadata": {},
   "source": [
    "## Data Engineering"
   ]
  },
  {
   "cell_type": "markdown",
   "id": "68cf92cd",
   "metadata": {},
   "source": [
    "#### Profit from the rides"
   ]
  },
  {
   "cell_type": "code",
   "execution_count": 13,
   "id": "6fd8bc84",
   "metadata": {},
   "outputs": [
    {
     "data": {
      "text/html": [
       "<div>\n",
       "<style scoped>\n",
       "    .dataframe tbody tr th:only-of-type {\n",
       "        vertical-align: middle;\n",
       "    }\n",
       "\n",
       "    .dataframe tbody tr th {\n",
       "        vertical-align: top;\n",
       "    }\n",
       "\n",
       "    .dataframe thead th {\n",
       "        text-align: right;\n",
       "    }\n",
       "</style>\n",
       "<table border=\"1\" class=\"dataframe\">\n",
       "  <thead>\n",
       "    <tr style=\"text-align: right;\">\n",
       "      <th></th>\n",
       "      <th>Transaction ID</th>\n",
       "      <th>Date of Travel</th>\n",
       "      <th>Company</th>\n",
       "      <th>City</th>\n",
       "      <th>KM Travelled</th>\n",
       "      <th>Price Charged</th>\n",
       "      <th>Cost of Trip</th>\n",
       "      <th>Customer ID</th>\n",
       "      <th>Payment_Mode</th>\n",
       "      <th>Gender</th>\n",
       "      <th>Age</th>\n",
       "      <th>Income (USD/Month)</th>\n",
       "      <th>Population</th>\n",
       "      <th>Users</th>\n",
       "      <th>profit</th>\n",
       "    </tr>\n",
       "  </thead>\n",
       "  <tbody>\n",
       "    <tr>\n",
       "      <th>103602</th>\n",
       "      <td>10126859</td>\n",
       "      <td>42727</td>\n",
       "      <td>Yellow Cab</td>\n",
       "      <td>NEW YORK NY</td>\n",
       "      <td>17.34</td>\n",
       "      <td>418.52</td>\n",
       "      <td>216.4032</td>\n",
       "      <td>931</td>\n",
       "      <td>Card</td>\n",
       "      <td>Female</td>\n",
       "      <td>24</td>\n",
       "      <td>4905</td>\n",
       "      <td>8,405,837</td>\n",
       "      <td>302,149</td>\n",
       "      <td>202.1168</td>\n",
       "    </tr>\n",
       "  </tbody>\n",
       "</table>\n",
       "</div>"
      ],
      "text/plain": [
       "        Transaction ID  Date of Travel     Company         City  KM Travelled  \\\n",
       "103602        10126859           42727  Yellow Cab  NEW YORK NY         17.34   \n",
       "\n",
       "        Price Charged  Cost of Trip  Customer ID Payment_Mode  Gender  Age  \\\n",
       "103602         418.52      216.4032          931         Card  Female   24   \n",
       "\n",
       "        Income (USD/Month)   Population      Users    profit  \n",
       "103602                4905   8,405,837    302,149   202.1168  "
      ]
     },
     "execution_count": 13,
     "metadata": {},
     "output_type": "execute_result"
    }
   ],
   "source": [
    "### Profit from the rides\n",
    "df['profit']=df['Price Charged']-df['Cost of Trip']\n",
    "df.sample()"
   ]
  },
  {
   "cell_type": "code",
   "execution_count": 14,
   "id": "2676adab",
   "metadata": {},
   "outputs": [],
   "source": [
    "# profit per Km\n",
    "df['profit/km']=df['profit']/df['KM Travelled']"
   ]
  },
  {
   "cell_type": "markdown",
   "id": "d0d99a4f",
   "metadata": {},
   "source": [
    "#### Change Date of Travel to datetime"
   ]
  },
  {
   "cell_type": "code",
   "execution_count": 15,
   "id": "77bbabaa",
   "metadata": {},
   "outputs": [],
   "source": [
    "from datetime import datetime\n",
    "df['Date of Travel'] = df['Date of Travel'].map(lambda date : datetime.fromordinal(datetime(1900,1,1).toordinal() + date))"
   ]
  },
  {
   "cell_type": "code",
   "execution_count": 16,
   "id": "83b52b05",
   "metadata": {},
   "outputs": [
    {
     "data": {
      "text/html": [
       "<div>\n",
       "<style scoped>\n",
       "    .dataframe tbody tr th:only-of-type {\n",
       "        vertical-align: middle;\n",
       "    }\n",
       "\n",
       "    .dataframe tbody tr th {\n",
       "        vertical-align: top;\n",
       "    }\n",
       "\n",
       "    .dataframe thead th {\n",
       "        text-align: right;\n",
       "    }\n",
       "</style>\n",
       "<table border=\"1\" class=\"dataframe\">\n",
       "  <thead>\n",
       "    <tr style=\"text-align: right;\">\n",
       "      <th></th>\n",
       "      <th>Transaction ID</th>\n",
       "      <th>Date of Travel</th>\n",
       "      <th>Company</th>\n",
       "      <th>City</th>\n",
       "      <th>KM Travelled</th>\n",
       "      <th>Price Charged</th>\n",
       "      <th>Cost of Trip</th>\n",
       "      <th>Customer ID</th>\n",
       "      <th>Payment_Mode</th>\n",
       "      <th>Gender</th>\n",
       "      <th>Age</th>\n",
       "      <th>Income (USD/Month)</th>\n",
       "      <th>Population</th>\n",
       "      <th>Users</th>\n",
       "      <th>profit</th>\n",
       "      <th>profit/km</th>\n",
       "    </tr>\n",
       "  </thead>\n",
       "  <tbody>\n",
       "    <tr>\n",
       "      <th>302642</th>\n",
       "      <td>10371845</td>\n",
       "      <td>2018-09-11</td>\n",
       "      <td>Yellow Cab</td>\n",
       "      <td>BOSTON MA</td>\n",
       "      <td>42.18</td>\n",
       "      <td>578.46</td>\n",
       "      <td>556.7760</td>\n",
       "      <td>57194</td>\n",
       "      <td>Card</td>\n",
       "      <td>Male</td>\n",
       "      <td>23</td>\n",
       "      <td>26278</td>\n",
       "      <td>248,968</td>\n",
       "      <td>80,021</td>\n",
       "      <td>21.6840</td>\n",
       "      <td>0.514083</td>\n",
       "    </tr>\n",
       "    <tr>\n",
       "      <th>222866</th>\n",
       "      <td>10272635</td>\n",
       "      <td>2017-12-11</td>\n",
       "      <td>Yellow Cab</td>\n",
       "      <td>NEW YORK NY</td>\n",
       "      <td>35.97</td>\n",
       "      <td>967.35</td>\n",
       "      <td>513.6516</td>\n",
       "      <td>1277</td>\n",
       "      <td>Card</td>\n",
       "      <td>Female</td>\n",
       "      <td>43</td>\n",
       "      <td>14220</td>\n",
       "      <td>8,405,837</td>\n",
       "      <td>302,149</td>\n",
       "      <td>453.6984</td>\n",
       "      <td>12.613244</td>\n",
       "    </tr>\n",
       "    <tr>\n",
       "      <th>95167</th>\n",
       "      <td>10116857</td>\n",
       "      <td>2016-12-09</td>\n",
       "      <td>Pink Cab</td>\n",
       "      <td>SAN DIEGO CA</td>\n",
       "      <td>10.17</td>\n",
       "      <td>136.51</td>\n",
       "      <td>107.8020</td>\n",
       "      <td>19526</td>\n",
       "      <td>Card</td>\n",
       "      <td>Female</td>\n",
       "      <td>48</td>\n",
       "      <td>24002</td>\n",
       "      <td>959,307</td>\n",
       "      <td>69,995</td>\n",
       "      <td>28.7080</td>\n",
       "      <td>2.822812</td>\n",
       "    </tr>\n",
       "    <tr>\n",
       "      <th>314327</th>\n",
       "      <td>10385887</td>\n",
       "      <td>2018-10-09</td>\n",
       "      <td>Yellow Cab</td>\n",
       "      <td>BOSTON MA</td>\n",
       "      <td>21.42</td>\n",
       "      <td>329.80</td>\n",
       "      <td>287.8848</td>\n",
       "      <td>57873</td>\n",
       "      <td>Card</td>\n",
       "      <td>Male</td>\n",
       "      <td>48</td>\n",
       "      <td>13556</td>\n",
       "      <td>248,968</td>\n",
       "      <td>80,021</td>\n",
       "      <td>41.9152</td>\n",
       "      <td>1.956825</td>\n",
       "    </tr>\n",
       "    <tr>\n",
       "      <th>55546</th>\n",
       "      <td>10069743</td>\n",
       "      <td>2016-08-29</td>\n",
       "      <td>Pink Cab</td>\n",
       "      <td>LOS ANGELES CA</td>\n",
       "      <td>33.60</td>\n",
       "      <td>522.50</td>\n",
       "      <td>396.4800</td>\n",
       "      <td>8421</td>\n",
       "      <td>Card</td>\n",
       "      <td>Male</td>\n",
       "      <td>61</td>\n",
       "      <td>7618</td>\n",
       "      <td>1,595,037</td>\n",
       "      <td>144,132</td>\n",
       "      <td>126.0200</td>\n",
       "      <td>3.750595</td>\n",
       "    </tr>\n",
       "  </tbody>\n",
       "</table>\n",
       "</div>"
      ],
      "text/plain": [
       "        Transaction ID Date of Travel     Company            City  \\\n",
       "302642        10371845     2018-09-11  Yellow Cab       BOSTON MA   \n",
       "222866        10272635     2017-12-11  Yellow Cab     NEW YORK NY   \n",
       "95167         10116857     2016-12-09    Pink Cab    SAN DIEGO CA   \n",
       "314327        10385887     2018-10-09  Yellow Cab       BOSTON MA   \n",
       "55546         10069743     2016-08-29    Pink Cab  LOS ANGELES CA   \n",
       "\n",
       "        KM Travelled  Price Charged  Cost of Trip  Customer ID Payment_Mode  \\\n",
       "302642         42.18         578.46      556.7760        57194         Card   \n",
       "222866         35.97         967.35      513.6516         1277         Card   \n",
       "95167          10.17         136.51      107.8020        19526         Card   \n",
       "314327         21.42         329.80      287.8848        57873         Card   \n",
       "55546          33.60         522.50      396.4800         8421         Card   \n",
       "\n",
       "        Gender  Age  Income (USD/Month)   Population      Users    profit  \\\n",
       "302642    Male   23               26278     248,968     80,021    21.6840   \n",
       "222866  Female   43               14220   8,405,837    302,149   453.6984   \n",
       "95167   Female   48               24002     959,307     69,995    28.7080   \n",
       "314327    Male   48               13556     248,968     80,021    41.9152   \n",
       "55546     Male   61                7618   1,595,037    144,132   126.0200   \n",
       "\n",
       "        profit/km  \n",
       "302642   0.514083  \n",
       "222866  12.613244  \n",
       "95167    2.822812  \n",
       "314327   1.956825  \n",
       "55546    3.750595  "
      ]
     },
     "execution_count": 16,
     "metadata": {},
     "output_type": "execute_result"
    }
   ],
   "source": [
    "df.sample(5)"
   ]
  },
  {
   "cell_type": "code",
   "execution_count": 17,
   "id": "19a729aa",
   "metadata": {},
   "outputs": [
    {
     "data": {
      "text/html": [
       "<div>\n",
       "<style scoped>\n",
       "    .dataframe tbody tr th:only-of-type {\n",
       "        vertical-align: middle;\n",
       "    }\n",
       "\n",
       "    .dataframe tbody tr th {\n",
       "        vertical-align: top;\n",
       "    }\n",
       "\n",
       "    .dataframe thead th {\n",
       "        text-align: right;\n",
       "    }\n",
       "</style>\n",
       "<table border=\"1\" class=\"dataframe\">\n",
       "  <thead>\n",
       "    <tr style=\"text-align: right;\">\n",
       "      <th></th>\n",
       "      <th>Transaction ID</th>\n",
       "      <th>KM Travelled</th>\n",
       "      <th>Price Charged</th>\n",
       "      <th>Cost of Trip</th>\n",
       "      <th>Customer ID</th>\n",
       "      <th>Age</th>\n",
       "      <th>Income (USD/Month)</th>\n",
       "      <th>profit</th>\n",
       "      <th>profit/km</th>\n",
       "    </tr>\n",
       "  </thead>\n",
       "  <tbody>\n",
       "    <tr>\n",
       "      <th>count</th>\n",
       "      <td>3.593920e+05</td>\n",
       "      <td>359392.000000</td>\n",
       "      <td>359392.000000</td>\n",
       "      <td>359392.000000</td>\n",
       "      <td>359392.000000</td>\n",
       "      <td>359392.000000</td>\n",
       "      <td>359392.000000</td>\n",
       "      <td>359392.000000</td>\n",
       "      <td>359392.000000</td>\n",
       "    </tr>\n",
       "    <tr>\n",
       "      <th>mean</th>\n",
       "      <td>1.022076e+07</td>\n",
       "      <td>22.567254</td>\n",
       "      <td>423.443311</td>\n",
       "      <td>286.190113</td>\n",
       "      <td>19191.652115</td>\n",
       "      <td>35.336705</td>\n",
       "      <td>15048.822937</td>\n",
       "      <td>137.253198</td>\n",
       "      <td>6.083579</td>\n",
       "    </tr>\n",
       "    <tr>\n",
       "      <th>std</th>\n",
       "      <td>1.268058e+05</td>\n",
       "      <td>12.233526</td>\n",
       "      <td>274.378911</td>\n",
       "      <td>157.993661</td>\n",
       "      <td>21012.412463</td>\n",
       "      <td>12.594234</td>\n",
       "      <td>7969.409482</td>\n",
       "      <td>160.311840</td>\n",
       "      <td>5.543493</td>\n",
       "    </tr>\n",
       "    <tr>\n",
       "      <th>min</th>\n",
       "      <td>1.000001e+07</td>\n",
       "      <td>1.900000</td>\n",
       "      <td>15.600000</td>\n",
       "      <td>19.000000</td>\n",
       "      <td>1.000000</td>\n",
       "      <td>18.000000</td>\n",
       "      <td>2000.000000</td>\n",
       "      <td>-220.060000</td>\n",
       "      <td>-4.998235</td>\n",
       "    </tr>\n",
       "    <tr>\n",
       "      <th>25%</th>\n",
       "      <td>1.011081e+07</td>\n",
       "      <td>12.000000</td>\n",
       "      <td>206.437500</td>\n",
       "      <td>151.200000</td>\n",
       "      <td>2705.000000</td>\n",
       "      <td>25.000000</td>\n",
       "      <td>8424.000000</td>\n",
       "      <td>28.012000</td>\n",
       "      <td>2.000385</td>\n",
       "    </tr>\n",
       "    <tr>\n",
       "      <th>50%</th>\n",
       "      <td>1.022104e+07</td>\n",
       "      <td>22.440000</td>\n",
       "      <td>386.360000</td>\n",
       "      <td>282.480000</td>\n",
       "      <td>7459.000000</td>\n",
       "      <td>33.000000</td>\n",
       "      <td>14685.000000</td>\n",
       "      <td>81.962000</td>\n",
       "      <td>4.466809</td>\n",
       "    </tr>\n",
       "    <tr>\n",
       "      <th>75%</th>\n",
       "      <td>1.033094e+07</td>\n",
       "      <td>32.960000</td>\n",
       "      <td>583.660000</td>\n",
       "      <td>413.683200</td>\n",
       "      <td>36078.000000</td>\n",
       "      <td>42.000000</td>\n",
       "      <td>21035.000000</td>\n",
       "      <td>190.030000</td>\n",
       "      <td>9.170006</td>\n",
       "    </tr>\n",
       "    <tr>\n",
       "      <th>max</th>\n",
       "      <td>1.044011e+07</td>\n",
       "      <td>48.000000</td>\n",
       "      <td>2048.030000</td>\n",
       "      <td>691.200000</td>\n",
       "      <td>60000.000000</td>\n",
       "      <td>65.000000</td>\n",
       "      <td>35000.000000</td>\n",
       "      <td>1463.966000</td>\n",
       "      <td>41.115556</td>\n",
       "    </tr>\n",
       "  </tbody>\n",
       "</table>\n",
       "</div>"
      ],
      "text/plain": [
       "       Transaction ID   KM Travelled  Price Charged   Cost of Trip  \\\n",
       "count    3.593920e+05  359392.000000  359392.000000  359392.000000   \n",
       "mean     1.022076e+07      22.567254     423.443311     286.190113   \n",
       "std      1.268058e+05      12.233526     274.378911     157.993661   \n",
       "min      1.000001e+07       1.900000      15.600000      19.000000   \n",
       "25%      1.011081e+07      12.000000     206.437500     151.200000   \n",
       "50%      1.022104e+07      22.440000     386.360000     282.480000   \n",
       "75%      1.033094e+07      32.960000     583.660000     413.683200   \n",
       "max      1.044011e+07      48.000000    2048.030000     691.200000   \n",
       "\n",
       "         Customer ID            Age  Income (USD/Month)         profit  \\\n",
       "count  359392.000000  359392.000000       359392.000000  359392.000000   \n",
       "mean    19191.652115      35.336705        15048.822937     137.253198   \n",
       "std     21012.412463      12.594234         7969.409482     160.311840   \n",
       "min         1.000000      18.000000         2000.000000    -220.060000   \n",
       "25%      2705.000000      25.000000         8424.000000      28.012000   \n",
       "50%      7459.000000      33.000000        14685.000000      81.962000   \n",
       "75%     36078.000000      42.000000        21035.000000     190.030000   \n",
       "max     60000.000000      65.000000        35000.000000    1463.966000   \n",
       "\n",
       "           profit/km  \n",
       "count  359392.000000  \n",
       "mean        6.083579  \n",
       "std         5.543493  \n",
       "min        -4.998235  \n",
       "25%         2.000385  \n",
       "50%         4.466809  \n",
       "75%         9.170006  \n",
       "max        41.115556  "
      ]
     },
     "execution_count": 17,
     "metadata": {},
     "output_type": "execute_result"
    }
   ],
   "source": [
    "df.describe()"
   ]
  },
  {
   "cell_type": "code",
   "execution_count": 18,
   "id": "f0539004",
   "metadata": {},
   "outputs": [
    {
     "data": {
      "text/plain": [
       "Transaction ID        0\n",
       "Date of Travel        0\n",
       "Company               0\n",
       "City                  0\n",
       "KM Travelled          0\n",
       "Price Charged         0\n",
       "Cost of Trip          0\n",
       "Customer ID           0\n",
       "Payment_Mode          0\n",
       "Gender                0\n",
       "Age                   0\n",
       "Income (USD/Month)    0\n",
       "Population            0\n",
       "Users                 0\n",
       "profit                0\n",
       "profit/km             0\n",
       "dtype: int64"
      ]
     },
     "execution_count": 18,
     "metadata": {},
     "output_type": "execute_result"
    }
   ],
   "source": [
    "df.isnull().sum()"
   ]
  },
  {
   "cell_type": "code",
   "execution_count": 19,
   "id": "c3d878b4",
   "metadata": {},
   "outputs": [
    {
     "data": {
      "text/plain": [
       "(359392, 16)"
      ]
     },
     "execution_count": 19,
     "metadata": {},
     "output_type": "execute_result"
    }
   ],
   "source": [
    "df.shape"
   ]
  },
  {
   "cell_type": "markdown",
   "id": "8d320795",
   "metadata": {},
   "source": [
    "### Extract day of week and month"
   ]
  },
  {
   "cell_type": "code",
   "execution_count": 20,
   "id": "2409832a",
   "metadata": {},
   "outputs": [],
   "source": [
    "#Extract day of week\n",
    "df['day_of_week'] = df['Date of Travel'].dt.day_name()"
   ]
  },
  {
   "cell_type": "code",
   "execution_count": 21,
   "id": "5ea930cb",
   "metadata": {},
   "outputs": [
    {
     "data": {
      "text/html": [
       "<div>\n",
       "<style scoped>\n",
       "    .dataframe tbody tr th:only-of-type {\n",
       "        vertical-align: middle;\n",
       "    }\n",
       "\n",
       "    .dataframe tbody tr th {\n",
       "        vertical-align: top;\n",
       "    }\n",
       "\n",
       "    .dataframe thead th {\n",
       "        text-align: right;\n",
       "    }\n",
       "</style>\n",
       "<table border=\"1\" class=\"dataframe\">\n",
       "  <thead>\n",
       "    <tr style=\"text-align: right;\">\n",
       "      <th></th>\n",
       "      <th>Transaction ID</th>\n",
       "      <th>Date of Travel</th>\n",
       "      <th>Company</th>\n",
       "      <th>City</th>\n",
       "      <th>KM Travelled</th>\n",
       "      <th>Price Charged</th>\n",
       "      <th>Cost of Trip</th>\n",
       "      <th>Customer ID</th>\n",
       "      <th>Payment_Mode</th>\n",
       "      <th>Gender</th>\n",
       "      <th>Age</th>\n",
       "      <th>Income (USD/Month)</th>\n",
       "      <th>Population</th>\n",
       "      <th>Users</th>\n",
       "      <th>profit</th>\n",
       "      <th>profit/km</th>\n",
       "      <th>day_of_week</th>\n",
       "      <th>month</th>\n",
       "      <th>year</th>\n",
       "    </tr>\n",
       "  </thead>\n",
       "  <tbody>\n",
       "    <tr>\n",
       "      <th>0</th>\n",
       "      <td>10000011</td>\n",
       "      <td>2016-01-10</td>\n",
       "      <td>Pink Cab</td>\n",
       "      <td>ATLANTA GA</td>\n",
       "      <td>30.45</td>\n",
       "      <td>370.95</td>\n",
       "      <td>313.635</td>\n",
       "      <td>29290</td>\n",
       "      <td>Card</td>\n",
       "      <td>Male</td>\n",
       "      <td>28</td>\n",
       "      <td>10813</td>\n",
       "      <td>814,885</td>\n",
       "      <td>24,701</td>\n",
       "      <td>57.315</td>\n",
       "      <td>1.882266</td>\n",
       "      <td>Sunday</td>\n",
       "      <td>January</td>\n",
       "      <td>2016</td>\n",
       "    </tr>\n",
       "    <tr>\n",
       "      <th>1</th>\n",
       "      <td>10000012</td>\n",
       "      <td>2016-01-08</td>\n",
       "      <td>Pink Cab</td>\n",
       "      <td>ATLANTA GA</td>\n",
       "      <td>28.62</td>\n",
       "      <td>358.52</td>\n",
       "      <td>334.854</td>\n",
       "      <td>27703</td>\n",
       "      <td>Card</td>\n",
       "      <td>Male</td>\n",
       "      <td>27</td>\n",
       "      <td>9237</td>\n",
       "      <td>814,885</td>\n",
       "      <td>24,701</td>\n",
       "      <td>23.666</td>\n",
       "      <td>0.826904</td>\n",
       "      <td>Friday</td>\n",
       "      <td>January</td>\n",
       "      <td>2016</td>\n",
       "    </tr>\n",
       "    <tr>\n",
       "      <th>2</th>\n",
       "      <td>10000013</td>\n",
       "      <td>2016-01-04</td>\n",
       "      <td>Pink Cab</td>\n",
       "      <td>ATLANTA GA</td>\n",
       "      <td>9.04</td>\n",
       "      <td>125.20</td>\n",
       "      <td>97.632</td>\n",
       "      <td>28712</td>\n",
       "      <td>Cash</td>\n",
       "      <td>Male</td>\n",
       "      <td>53</td>\n",
       "      <td>11242</td>\n",
       "      <td>814,885</td>\n",
       "      <td>24,701</td>\n",
       "      <td>27.568</td>\n",
       "      <td>3.049558</td>\n",
       "      <td>Monday</td>\n",
       "      <td>January</td>\n",
       "      <td>2016</td>\n",
       "    </tr>\n",
       "    <tr>\n",
       "      <th>3</th>\n",
       "      <td>10000014</td>\n",
       "      <td>2016-01-09</td>\n",
       "      <td>Pink Cab</td>\n",
       "      <td>ATLANTA GA</td>\n",
       "      <td>33.17</td>\n",
       "      <td>377.40</td>\n",
       "      <td>351.602</td>\n",
       "      <td>28020</td>\n",
       "      <td>Cash</td>\n",
       "      <td>Male</td>\n",
       "      <td>23</td>\n",
       "      <td>23327</td>\n",
       "      <td>814,885</td>\n",
       "      <td>24,701</td>\n",
       "      <td>25.798</td>\n",
       "      <td>0.777751</td>\n",
       "      <td>Saturday</td>\n",
       "      <td>January</td>\n",
       "      <td>2016</td>\n",
       "    </tr>\n",
       "    <tr>\n",
       "      <th>4</th>\n",
       "      <td>10000015</td>\n",
       "      <td>2016-01-05</td>\n",
       "      <td>Pink Cab</td>\n",
       "      <td>ATLANTA GA</td>\n",
       "      <td>8.73</td>\n",
       "      <td>114.62</td>\n",
       "      <td>97.776</td>\n",
       "      <td>27182</td>\n",
       "      <td>Card</td>\n",
       "      <td>Male</td>\n",
       "      <td>33</td>\n",
       "      <td>8536</td>\n",
       "      <td>814,885</td>\n",
       "      <td>24,701</td>\n",
       "      <td>16.844</td>\n",
       "      <td>1.929439</td>\n",
       "      <td>Tuesday</td>\n",
       "      <td>January</td>\n",
       "      <td>2016</td>\n",
       "    </tr>\n",
       "  </tbody>\n",
       "</table>\n",
       "</div>"
      ],
      "text/plain": [
       "   Transaction ID Date of Travel   Company        City  KM Travelled  \\\n",
       "0        10000011     2016-01-10  Pink Cab  ATLANTA GA         30.45   \n",
       "1        10000012     2016-01-08  Pink Cab  ATLANTA GA         28.62   \n",
       "2        10000013     2016-01-04  Pink Cab  ATLANTA GA          9.04   \n",
       "3        10000014     2016-01-09  Pink Cab  ATLANTA GA         33.17   \n",
       "4        10000015     2016-01-05  Pink Cab  ATLANTA GA          8.73   \n",
       "\n",
       "   Price Charged  Cost of Trip  Customer ID Payment_Mode Gender  Age  \\\n",
       "0         370.95       313.635        29290         Card   Male   28   \n",
       "1         358.52       334.854        27703         Card   Male   27   \n",
       "2         125.20        97.632        28712         Cash   Male   53   \n",
       "3         377.40       351.602        28020         Cash   Male   23   \n",
       "4         114.62        97.776        27182         Card   Male   33   \n",
       "\n",
       "   Income (USD/Month) Population     Users  profit  profit/km day_of_week  \\\n",
       "0               10813   814,885    24,701   57.315   1.882266      Sunday   \n",
       "1                9237   814,885    24,701   23.666   0.826904      Friday   \n",
       "2               11242   814,885    24,701   27.568   3.049558      Monday   \n",
       "3               23327   814,885    24,701   25.798   0.777751    Saturday   \n",
       "4                8536   814,885    24,701   16.844   1.929439     Tuesday   \n",
       "\n",
       "     month  year  \n",
       "0  January  2016  \n",
       "1  January  2016  \n",
       "2  January  2016  \n",
       "3  January  2016  \n",
       "4  January  2016  "
      ]
     },
     "execution_count": 21,
     "metadata": {},
     "output_type": "execute_result"
    }
   ],
   "source": [
    "#Extract month from Date of Travel\n",
    "df['month'] = df['Date of Travel'].dt.month_name()\n",
    "#Extract year from Date of Travel\n",
    "df['year'] = pd.DatetimeIndex(df['Date of Travel']).year\n",
    "df.head()"
   ]
  },
  {
   "cell_type": "code",
   "execution_count": 22,
   "id": "a3cf4dd9",
   "metadata": {},
   "outputs": [
    {
     "data": {
      "text/html": [
       "<div>\n",
       "<style scoped>\n",
       "    .dataframe tbody tr th:only-of-type {\n",
       "        vertical-align: middle;\n",
       "    }\n",
       "\n",
       "    .dataframe tbody tr th {\n",
       "        vertical-align: top;\n",
       "    }\n",
       "\n",
       "    .dataframe thead th {\n",
       "        text-align: right;\n",
       "    }\n",
       "</style>\n",
       "<table border=\"1\" class=\"dataframe\">\n",
       "  <thead>\n",
       "    <tr style=\"text-align: right;\">\n",
       "      <th></th>\n",
       "      <th>Transaction ID</th>\n",
       "      <th>Date of Travel</th>\n",
       "      <th>Company</th>\n",
       "      <th>City</th>\n",
       "      <th>KM Travelled</th>\n",
       "      <th>Price Charged</th>\n",
       "      <th>Cost of Trip</th>\n",
       "      <th>Customer ID</th>\n",
       "      <th>Payment_Mode</th>\n",
       "      <th>Gender</th>\n",
       "      <th>Age</th>\n",
       "      <th>Income (USD/Month)</th>\n",
       "      <th>Population</th>\n",
       "      <th>Users</th>\n",
       "      <th>profit</th>\n",
       "      <th>profit/km</th>\n",
       "      <th>day_of_week</th>\n",
       "      <th>month</th>\n",
       "      <th>year</th>\n",
       "    </tr>\n",
       "  </thead>\n",
       "  <tbody>\n",
       "    <tr>\n",
       "      <th>0</th>\n",
       "      <td>10000011</td>\n",
       "      <td>2016-01-10</td>\n",
       "      <td>Pink Cab</td>\n",
       "      <td>ATLANTA GA</td>\n",
       "      <td>30.45</td>\n",
       "      <td>370.95</td>\n",
       "      <td>313.635</td>\n",
       "      <td>29290</td>\n",
       "      <td>Card</td>\n",
       "      <td>Male</td>\n",
       "      <td>28</td>\n",
       "      <td>10813</td>\n",
       "      <td>814885</td>\n",
       "      <td>24701</td>\n",
       "      <td>57.315</td>\n",
       "      <td>1.882266</td>\n",
       "      <td>Sunday</td>\n",
       "      <td>January</td>\n",
       "      <td>2016</td>\n",
       "    </tr>\n",
       "    <tr>\n",
       "      <th>1</th>\n",
       "      <td>10000012</td>\n",
       "      <td>2016-01-08</td>\n",
       "      <td>Pink Cab</td>\n",
       "      <td>ATLANTA GA</td>\n",
       "      <td>28.62</td>\n",
       "      <td>358.52</td>\n",
       "      <td>334.854</td>\n",
       "      <td>27703</td>\n",
       "      <td>Card</td>\n",
       "      <td>Male</td>\n",
       "      <td>27</td>\n",
       "      <td>9237</td>\n",
       "      <td>814885</td>\n",
       "      <td>24701</td>\n",
       "      <td>23.666</td>\n",
       "      <td>0.826904</td>\n",
       "      <td>Friday</td>\n",
       "      <td>January</td>\n",
       "      <td>2016</td>\n",
       "    </tr>\n",
       "    <tr>\n",
       "      <th>2</th>\n",
       "      <td>10000013</td>\n",
       "      <td>2016-01-04</td>\n",
       "      <td>Pink Cab</td>\n",
       "      <td>ATLANTA GA</td>\n",
       "      <td>9.04</td>\n",
       "      <td>125.20</td>\n",
       "      <td>97.632</td>\n",
       "      <td>28712</td>\n",
       "      <td>Cash</td>\n",
       "      <td>Male</td>\n",
       "      <td>53</td>\n",
       "      <td>11242</td>\n",
       "      <td>814885</td>\n",
       "      <td>24701</td>\n",
       "      <td>27.568</td>\n",
       "      <td>3.049558</td>\n",
       "      <td>Monday</td>\n",
       "      <td>January</td>\n",
       "      <td>2016</td>\n",
       "    </tr>\n",
       "    <tr>\n",
       "      <th>3</th>\n",
       "      <td>10000014</td>\n",
       "      <td>2016-01-09</td>\n",
       "      <td>Pink Cab</td>\n",
       "      <td>ATLANTA GA</td>\n",
       "      <td>33.17</td>\n",
       "      <td>377.40</td>\n",
       "      <td>351.602</td>\n",
       "      <td>28020</td>\n",
       "      <td>Cash</td>\n",
       "      <td>Male</td>\n",
       "      <td>23</td>\n",
       "      <td>23327</td>\n",
       "      <td>814885</td>\n",
       "      <td>24701</td>\n",
       "      <td>25.798</td>\n",
       "      <td>0.777751</td>\n",
       "      <td>Saturday</td>\n",
       "      <td>January</td>\n",
       "      <td>2016</td>\n",
       "    </tr>\n",
       "    <tr>\n",
       "      <th>4</th>\n",
       "      <td>10000015</td>\n",
       "      <td>2016-01-05</td>\n",
       "      <td>Pink Cab</td>\n",
       "      <td>ATLANTA GA</td>\n",
       "      <td>8.73</td>\n",
       "      <td>114.62</td>\n",
       "      <td>97.776</td>\n",
       "      <td>27182</td>\n",
       "      <td>Card</td>\n",
       "      <td>Male</td>\n",
       "      <td>33</td>\n",
       "      <td>8536</td>\n",
       "      <td>814885</td>\n",
       "      <td>24701</td>\n",
       "      <td>16.844</td>\n",
       "      <td>1.929439</td>\n",
       "      <td>Tuesday</td>\n",
       "      <td>January</td>\n",
       "      <td>2016</td>\n",
       "    </tr>\n",
       "  </tbody>\n",
       "</table>\n",
       "</div>"
      ],
      "text/plain": [
       "   Transaction ID Date of Travel   Company        City  KM Travelled  \\\n",
       "0        10000011     2016-01-10  Pink Cab  ATLANTA GA         30.45   \n",
       "1        10000012     2016-01-08  Pink Cab  ATLANTA GA         28.62   \n",
       "2        10000013     2016-01-04  Pink Cab  ATLANTA GA          9.04   \n",
       "3        10000014     2016-01-09  Pink Cab  ATLANTA GA         33.17   \n",
       "4        10000015     2016-01-05  Pink Cab  ATLANTA GA          8.73   \n",
       "\n",
       "   Price Charged  Cost of Trip  Customer ID Payment_Mode Gender  Age  \\\n",
       "0         370.95       313.635        29290         Card   Male   28   \n",
       "1         358.52       334.854        27703         Card   Male   27   \n",
       "2         125.20        97.632        28712         Cash   Male   53   \n",
       "3         377.40       351.602        28020         Cash   Male   23   \n",
       "4         114.62        97.776        27182         Card   Male   33   \n",
       "\n",
       "   Income (USD/Month)  Population  Users  profit  profit/km day_of_week  \\\n",
       "0               10813      814885  24701  57.315   1.882266      Sunday   \n",
       "1                9237      814885  24701  23.666   0.826904      Friday   \n",
       "2               11242      814885  24701  27.568   3.049558      Monday   \n",
       "3               23327      814885  24701  25.798   0.777751    Saturday   \n",
       "4                8536      814885  24701  16.844   1.929439     Tuesday   \n",
       "\n",
       "     month  year  \n",
       "0  January  2016  \n",
       "1  January  2016  \n",
       "2  January  2016  \n",
       "3  January  2016  \n",
       "4  January  2016  "
      ]
     },
     "execution_count": 22,
     "metadata": {},
     "output_type": "execute_result"
    }
   ],
   "source": [
    "#remove commas from users column\n",
    "i=['Population', 'Users']\n",
    "for columns in i:\n",
    "    df[columns]=df[columns].str.replace(\",\", \"\", regex=False).astype(int)\n",
    "\n",
    "df.head()"
   ]
  },
  {
   "cell_type": "markdown",
   "id": "f040726c",
   "metadata": {},
   "source": [
    "### Stastistical Summary"
   ]
  },
  {
   "cell_type": "code",
   "execution_count": 31,
   "id": "2358dfe7",
   "metadata": {},
   "outputs": [
    {
     "name": "stdout",
     "output_type": "stream",
     "text": [
      "(359392, 19)\n",
      "<class 'pandas.core.frame.DataFrame'>\n",
      "Int64Index: 359392 entries, 0 to 359391\n",
      "Data columns (total 19 columns):\n",
      " #   Column              Non-Null Count   Dtype         \n",
      "---  ------              --------------   -----         \n",
      " 0   Transaction ID      359392 non-null  int64         \n",
      " 1   Date of Travel      359392 non-null  datetime64[ns]\n",
      " 2   Company             359392 non-null  object        \n",
      " 3   City                359392 non-null  object        \n",
      " 4   KM Travelled        359392 non-null  float64       \n",
      " 5   Price Charged       359392 non-null  float64       \n",
      " 6   Cost of Trip        359392 non-null  float64       \n",
      " 7   Customer ID         359392 non-null  int64         \n",
      " 8   Payment_Mode        359392 non-null  object        \n",
      " 9   Gender              359392 non-null  object        \n",
      " 10  Age                 359392 non-null  int64         \n",
      " 11  Income (USD/Month)  359392 non-null  int64         \n",
      " 12  Population          359392 non-null  int32         \n",
      " 13  Users               359392 non-null  int32         \n",
      " 14  profit              359392 non-null  float64       \n",
      " 15  profit/km           359392 non-null  float64       \n",
      " 16  day_of_week         359392 non-null  object        \n",
      " 17  month               359392 non-null  object        \n",
      " 18  year                359392 non-null  int64         \n",
      "dtypes: datetime64[ns](1), float64(5), int32(2), int64(5), object(6)\n",
      "memory usage: 52.1+ MB\n"
     ]
    }
   ],
   "source": [
    "print(df.shape)\n",
    "df.info()"
   ]
  },
  {
   "cell_type": "code",
   "execution_count": 32,
   "id": "e1b0feec",
   "metadata": {},
   "outputs": [
    {
     "data": {
      "text/plain": [
       "Transaction ID        0\n",
       "Date of Travel        0\n",
       "Company               0\n",
       "City                  0\n",
       "KM Travelled          0\n",
       "Price Charged         0\n",
       "Cost of Trip          0\n",
       "Customer ID           0\n",
       "Payment_Mode          0\n",
       "Gender                0\n",
       "Age                   0\n",
       "Income (USD/Month)    0\n",
       "Population            0\n",
       "Users                 0\n",
       "profit                0\n",
       "profit/km             0\n",
       "day_of_week           0\n",
       "month                 0\n",
       "year                  0\n",
       "dtype: int64"
      ]
     },
     "execution_count": 32,
     "metadata": {},
     "output_type": "execute_result"
    }
   ],
   "source": [
    "df.isnull().sum()"
   ]
  },
  {
   "cell_type": "code",
   "execution_count": 34,
   "id": "70b2fb8c",
   "metadata": {},
   "outputs": [
    {
     "data": {
      "text/plain": [
       "0"
      ]
     },
     "execution_count": 34,
     "metadata": {},
     "output_type": "execute_result"
    }
   ],
   "source": [
    "df.duplicated().sum()"
   ]
  },
  {
   "cell_type": "code",
   "execution_count": 36,
   "id": "c4595d55",
   "metadata": {},
   "outputs": [],
   "source": [
    "df.to_csv('Master_data.csv', index=False)"
   ]
  },
  {
   "cell_type": "code",
   "execution_count": null,
   "id": "ee54cbc8",
   "metadata": {},
   "outputs": [],
   "source": []
  },
  {
   "cell_type": "code",
   "execution_count": null,
   "id": "27aad7d1",
   "metadata": {},
   "outputs": [],
   "source": []
  },
  {
   "cell_type": "markdown",
   "id": "a3abf801",
   "metadata": {},
   "source": [
    "## Exploratory data analysis"
   ]
  },
  {
   "cell_type": "code",
   "execution_count": null,
   "id": "babd863e",
   "metadata": {},
   "outputs": [],
   "source": []
  },
  {
   "cell_type": "markdown",
   "id": "fbf3ec5f",
   "metadata": {},
   "source": [
    "#### Distribution of KM Travelled"
   ]
  },
  {
   "cell_type": "code",
   "execution_count": 23,
   "id": "25f9aee0",
   "metadata": {},
   "outputs": [
    {
     "data": {
      "image/png": "[encoded data removed]",
      "text/plain": [
       "<Figure size 432x288 with 1 Axes>"
      ]
     },
     "metadata": {
      "needs_background": "light"
     },
     "output_type": "display_data"
    }
   ],
   "source": [
    "ticks = [1, 5, 10, 15, 20, 25, 30, 35, 40, 45, 50]\n",
    "labels = ['{}'.format(v) for v in ticks]\n",
    "\n",
    "bins_edges=np.arange(df['KM Travelled'].min(), df['KM Travelled'].max()+5, 5)\n",
    "plt.hist(data=df, x='KM Travelled', bins=bins_edges)\n",
    "plt.title('Distribution of KM Travelled')\n",
    "plt.ylabel('count')\n",
    "plt.xlabel('KM Travelled')\n",
    "\n",
    "# Apply x-ticks\n",
    "plt.xticks(ticks, labels);"
   ]
  },
  {
   "cell_type": "markdown",
   "id": "331a1b85",
   "metadata": {},
   "source": [
    "There is an even distribution of KM Travelled from 1km to 35km and starts dropping when the distance gets longer."
   ]
  },
  {
   "cell_type": "markdown",
   "id": "dce81a4b",
   "metadata": {},
   "source": [
    "#### Distribution of Profit"
   ]
  },
  {
   "cell_type": "code",
   "execution_count": 24,
   "id": "48a9b869",
   "metadata": {},
   "outputs": [
    {
     "data": {
      "image/png": "[encoded data removed]",
      "text/plain": [
       "<Figure size 576x360 with 1 Axes>"
      ]
     },
     "metadata": {
      "needs_background": "light"
     },
     "output_type": "display_data"
    }
   ],
   "source": [
    "plt.figure(figsize=[8, 5])\n",
    "\n",
    "plt.hist(data=df, x='profit')\n",
    "plt.title('Distribution of Profit')\n",
    "plt.ylabel('count')\n",
    "plt.xlabel('profit');\n",
    "#plt.xscale('log')\n",
    "           \n",
    "#plt.xlim(15, 1500)"
   ]
  },
  {
   "cell_type": "markdown",
   "id": "d918463b",
   "metadata": {},
   "source": [
    "some cab rides resulted into a loss but generally profit distribution is skewed to the righ"
   ]
  },
  {
   "cell_type": "code",
   "execution_count": 25,
   "id": "f8b451ea",
   "metadata": {},
   "outputs": [
    {
     "data": {
      "image/png": "[encoded data removed]",
      "text/plain": [
       "<Figure size 576x360 with 1 Axes>"
      ]
     },
     "metadata": {
      "needs_background": "light"
     },
     "output_type": "display_data"
    }
   ],
   "source": [
    "ticks = [15, 20, 25, 30, 35, 40, 45, 50, 55, 60, 65]\n",
    "labels = ['{}'.format(v) for v in ticks]\n",
    "\n",
    "plt.figure(figsize=[8, 5])\n",
    "bins_edges=np.arange(df['Age'].min(), df['Age'].max()+3, 3)\n",
    "plt.hist(data=df, x='Age', bins=bins_edges)\n",
    "plt.title('Distribution of Age')\n",
    "plt.ylabel('count')\n",
    "plt.xlabel('Age')\n",
    "\n",
    "# Apply x-ticks\n",
    "plt.xticks(ticks, labels);"
   ]
  },
  {
   "cell_type": "markdown",
   "id": "e1dffbbb",
   "metadata": {},
   "source": [
    "Most cab riders are aged between 15-40 years."
   ]
  },
  {
   "cell_type": "markdown",
   "id": "17dd9195",
   "metadata": {},
   "source": [
    "### Income (USD/Month)"
   ]
  },
  {
   "cell_type": "code",
   "execution_count": 26,
   "id": "09bb6f35",
   "metadata": {},
   "outputs": [
    {
     "data": {
      "image/png": "[encoded data removed]",
      "text/plain": [
       "<Figure size 576x360 with 1 Axes>"
      ]
     },
     "metadata": {
      "needs_background": "light"
     },
     "output_type": "display_data"
    }
   ],
   "source": [
    "plt.figure(figsize=[8, 5])\n",
    "\n",
    "plt.hist(data=df, x='Income (USD/Month)')\n",
    "plt.title('Distribution of Income (USD/Month)')\n",
    "plt.ylabel('count')\n",
    "plt.xlabel('Income (USD/Month)');"
   ]
  },
  {
   "cell_type": "markdown",
   "id": "bd8ce8f6",
   "metadata": {},
   "source": [
    "Income for most riders lies between $2000 to $25000"
   ]
  },
  {
   "cell_type": "markdown",
   "id": "e643498d",
   "metadata": {},
   "source": [
    "#### Distibution of Company rides"
   ]
  },
  {
   "cell_type": "code",
   "execution_count": 27,
   "id": "1d3fcade",
   "metadata": {},
   "outputs": [],
   "source": [
    "#Pie chart funtion\n",
    "def pie_chart(x):\n",
    "    i= df[x].value_counts()\n",
    "    plt.pie(i, labels = i.index, startangle = 90, counterclock = False, autopct='%1.1f%%')\n",
    "    plt.axis('square')\n",
    "    plt.show()"
   ]
  },
  {
   "cell_type": "code",
   "execution_count": 28,
   "id": "4fce3885",
   "metadata": {},
   "outputs": [
    {
     "data": {
      "image/png": "[encoded data removed]",
      "text/plain": [
       "<Figure size 432x288 with 1 Axes>"
      ]
     },
     "metadata": {},
     "output_type": "display_data"
    }
   ],
   "source": [
    "# base_color=sns.color_palette()[0]\n",
    "# plt.subplot(1, 2, 1)\n",
    "# sns.countplot(data=cab, x='Company', color=base_color, )\n",
    "# plt.title('Number of trips per company')\n",
    "\n",
    "company = df['Company'].value_counts()\n",
    "plt.pie(company, labels = company.index, startangle = 90, counterclock = False, autopct='%1.1f%%')\n",
    "plt.axis('square')\n",
    "plt.show();"
   ]
  },
  {
   "cell_type": "markdown",
   "id": "d8fddd65",
   "metadata": {},
   "source": [
    "Yellow cab makes 76.4% of trips while Pink cab is 23.6%"
   ]
  },
  {
   "cell_type": "code",
   "execution_count": 29,
   "id": "00a2e53a",
   "metadata": {},
   "outputs": [],
   "source": [
    "#function for count plot\n",
    "def count_plot(x):\n",
    "    #plt.figure(figsize=[8, 5])\n",
    "    sns.countplot(x=x, data=df, order = df[x].value_counts().index, hue='Company')"
   ]
  },
  {
   "cell_type": "code",
   "execution_count": 30,
   "id": "81650e62",
   "metadata": {},
   "outputs": [
    {
     "ename": "SyntaxError",
     "evalue": "keyword argument repeated: order (2463676049.py, line 12)",
     "output_type": "error",
     "traceback": [
      "\u001b[1;36m  Input \u001b[1;32mIn [30]\u001b[1;36m\u001b[0m\n\u001b[1;33m    sns.barplot(data=df, y='profit/km', x='City', hue='Company', order = df['City'].value_counts().index,\u001b[0m\n\u001b[1;37m               ^\u001b[0m\n\u001b[1;31mSyntaxError\u001b[0m\u001b[1;31m:\u001b[0m keyword argument repeated: order\n"
     ]
    },
    {
     "data": {
      "image/png": "[encoded data removed]",
      "text/plain": [
       "<Figure size 864x360 with 3 Axes>"
      ]
     },
     "metadata": {
      "needs_background": "light"
     },
     "output_type": "display_data"
    }
   ],
   "source": [
    "plt.figure(figsize=[12, 5])\n",
    "plt.subplot(1, 3, 1)\n",
    "count_plot('City')\n",
    "plt.xticks(rotation=90)\n",
    "plt.title('Number of riders per City')\n",
    "\n",
    "plt.subplot(1, 3, 2)\n",
    "sns.barplot(data=df, x='City', y='profit', hue='Company', order = df['City'].value_counts().index)\n",
    "plt.xticks(rotation=90)\n",
    "\n",
    "plt.subplot(1, 3, 3)\n",
    "sns.barplot(data=df, y='profit/km', x='City', hue='Company', order = df['City'].value_counts().index,\n",
    "           order=df.sort_values('profit/km',ascending = False).City)\n",
    "plt.xticks(rotation=90);"
   ]
  },
  {
   "cell_type": "markdown",
   "id": "75f23058",
   "metadata": {},
   "source": [
    "The Yellow Cab is prefered in most cities except in San Diego, Nashville and Pittsburgh"
   ]
  },
  {
   "cell_type": "code",
   "execution_count": null,
   "id": "0b418bf9",
   "metadata": {},
   "outputs": [],
   "source": []
  },
  {
   "cell_type": "code",
   "execution_count": null,
   "id": "65f402fa",
   "metadata": {},
   "outputs": [],
   "source": [
    "pie_chart('Payment_Mode');"
   ]
  },
  {
   "cell_type": "markdown",
   "id": "a2e0e1ce",
   "metadata": {},
   "source": [
    "Most riders prefer the use of card for as a payment mode"
   ]
  },
  {
   "cell_type": "code",
   "execution_count": null,
   "id": "2b60232d",
   "metadata": {},
   "outputs": [],
   "source": [
    "pie_chart('Gender');"
   ]
  },
  {
   "cell_type": "markdown",
   "id": "226a6e01",
   "metadata": {},
   "source": [
    "Males make up for most of the riders at 57.3%"
   ]
  },
  {
   "cell_type": "code",
   "execution_count": null,
   "id": "78fb1273",
   "metadata": {},
   "outputs": [],
   "source": [
    "count_plot('day_of_week')\n",
    "plt.xticks(rotation=90)\n",
    "plt.title('Count of Rides per Day');\n"
   ]
  },
  {
   "cell_type": "code",
   "execution_count": null,
   "id": "27b57fd9",
   "metadata": {},
   "outputs": [],
   "source": [
    "count_plot('month')\n",
    "plt.xticks(rotation=90)\n",
    "plt.title('Count of Rides per month');"
   ]
  },
  {
   "cell_type": "markdown",
   "id": "7fd5d50f",
   "metadata": {},
   "source": [
    "December has most rides, this can be attributed to the holidays"
   ]
  },
  {
   "cell_type": "markdown",
   "id": "eab4fbb2",
   "metadata": {},
   "source": [
    "## Bivariate Analysis"
   ]
  },
  {
   "cell_type": "markdown",
   "id": "3c5b0887",
   "metadata": {},
   "source": [
    "### Relationship between KM travelled and profit"
   ]
  },
  {
   "cell_type": "code",
   "execution_count": null,
   "id": "885d69cc",
   "metadata": {},
   "outputs": [],
   "source": [
    "#plot a scatter plot\n",
    "plt.figure(figsize=[10, 5])\n",
    "\n",
    "plt.subplot(1, 2, 1)\n",
    "sns.regplot(data=df, x='KM Travelled', y='profit', x_jitter=0.04, scatter_kws={'alpha':1/10}, fit_reg=False)\n",
    "\n",
    "plt.subplot(1, 2, 2)\n",
    "plt.hist2d(data=df, x='KM Travelled', y='profit', cmin=0.5, cmap='viridis_r')\n",
    "plt.xlabel('Age')\n",
    "plt.ylabel('Duration(minutes)')\n",
    "plt.colorbar() ;"
   ]
  },
  {
   "cell_type": "code",
   "execution_count": null,
   "id": "d5bb028b",
   "metadata": {},
   "outputs": [],
   "source": [
    "sns.lmplot(x='KM Travelled', y='profit', hue='Company', data=df, fit_reg=False, legend=False)"
   ]
  },
  {
   "cell_type": "code",
   "execution_count": null,
   "id": "5fa427c4",
   "metadata": {},
   "outputs": [],
   "source": [
    "plt.figure(figsize=(8, 5))\n",
    "#sns.regplot(data=df, x='Age', y='Income (USD/Month)', x_jitter=0.04, scatter_kws={'alpha':1/10}, fit_reg=False)\n",
    "plt.hist2d(data=df, x='Age', y='Income (USD/Month)', cmin=0.5, cmap='viridis_r')\n",
    "plt.title('Relationship Between Age and Income')\n",
    "plt.xlabel('Age')\n",
    "plt.ylabel('Income (USD/Month)')\n",
    "plt.colorbar();"
   ]
  },
  {
   "cell_type": "markdown",
   "id": "ebdda860",
   "metadata": {},
   "source": [
    "### Bivariate Exploration of categorical variables"
   ]
  },
  {
   "cell_type": "code",
   "execution_count": null,
   "id": "8b9304c4",
   "metadata": {},
   "outputs": [],
   "source": [
    "def box_plot(x_axis, y_axis):\n",
    "    sns.boxplot(x=x_axis, y=y_axis, data=df, hue='Company')"
   ]
  },
  {
   "cell_type": "code",
   "execution_count": null,
   "id": "3582d1c2",
   "metadata": {},
   "outputs": [],
   "source": [
    "box_plot('Gender', 'profit')"
   ]
  },
  {
   "cell_type": "code",
   "execution_count": null,
   "id": "349802c8",
   "metadata": {},
   "outputs": [],
   "source": [
    "box_plot('Payment_Mode', 'profit')"
   ]
  },
  {
   "cell_type": "code",
   "execution_count": null,
   "id": "1bbea3a4",
   "metadata": {},
   "outputs": [],
   "source": [
    "box_plot('Gender', 'Age')"
   ]
  },
  {
   "cell_type": "code",
   "execution_count": null,
   "id": "ca7b63de",
   "metadata": {},
   "outputs": [],
   "source": [
    "box_plot('Gender', 'Income (USD/Month)')"
   ]
  },
  {
   "cell_type": "code",
   "execution_count": null,
   "id": "1205f23f",
   "metadata": {},
   "outputs": [],
   "source": [
    "df.sample()"
   ]
  },
  {
   "cell_type": "markdown",
   "id": "f7a94fca",
   "metadata": {},
   "source": [
    "### Multivariate Analysis"
   ]
  },
  {
   "cell_type": "code",
   "execution_count": null,
   "id": "595836a5",
   "metadata": {},
   "outputs": [],
   "source": [
    "#Create a function for facetGrid\n",
    "def g(x):\n",
    "    g = sns.FacetGrid(data = df, hue = x, size = 5)\n",
    "    g.map(plt.scatter, x='Age', 'profit')\n",
    "    plt.legend(loc='upper right');\n"
   ]
  },
  {
   "cell_type": "code",
   "execution_count": null,
   "id": "5f5cd49c",
   "metadata": {},
   "outputs": [],
   "source": [
    "def fg(x):\n",
    "    g = sns.FacetGrid(data = df, col = x, size = 5, margin_titles = True)\n",
    "    g.map(plt.scatter, 'Age', 'Income (USD/Month)', alpha=0.25)"
   ]
  },
  {
   "cell_type": "code",
   "execution_count": null,
   "id": "cabcc2df",
   "metadata": {},
   "outputs": [],
   "source": [
    "fg('Company')"
   ]
  },
  {
   "cell_type": "code",
   "execution_count": null,
   "id": "9c767b32",
   "metadata": {},
   "outputs": [],
   "source": [
    "def fg(x):\n",
    "    g = sns.FacetGrid(data = df, col = x, size = 5, margin_titles = True)\n",
    "    g.map(plt.scatter, 'profit', 'Income (USD/Month)', alpha=0.25)"
   ]
  },
  {
   "cell_type": "code",
   "execution_count": null,
   "id": "cdbdb825",
   "metadata": {},
   "outputs": [],
   "source": [
    "fg('Company')"
   ]
  },
  {
   "cell_type": "code",
   "execution_count": null,
   "id": "743c7f8a",
   "metadata": {},
   "outputs": [],
   "source": []
  }
 ],
 "metadata": {
  "kernelspec": {
   "display_name": "Python 3 (ipykernel)",
   "language": "python",
   "name": "python3"
  },
  "language_info": {
   "codemirror_mode": {
    "name": "ipython",
    "version": 3
   },
   "file_extension": ".py",
   "mimetype": "text/x-python",
   "name": "python",
   "nbconvert_exporter": "python",
   "pygments_lexer": "ipython3",
   "version": "3.9.12"
  }
 },
 "nbformat": 4,
 "nbformat_minor": 5
}
