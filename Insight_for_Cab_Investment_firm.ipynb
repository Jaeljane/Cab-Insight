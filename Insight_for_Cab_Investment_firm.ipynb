{
  "cells": [
    {
      "cell_type": "markdown",
      "metadata": {
        "id": "view-in-github",
        "colab_type": "text"
      },
      "source": [
        "<a href=\"https://colab.research.google.com/github/Jaeljane/Cab-Insight/blob/main/Insight_for_Cab_Investment_firm.ipynb\" target=\"_parent\"><img src=\"https://colab.research.google.com/assets/colab-badge.svg\" alt=\"Open In Colab\"/></a>"
      ]
    },
    {
      "cell_type": "code",
      "execution_count": 66,
      "metadata": {
        "id": "q2y0qTyCPYsH"
      },
      "outputs": [],
      "source": [
        "#Importing the libraries\n",
        "import numpy as np\n",
        "import pandas as pd\n",
        "import matplotlib.pyplot as plt\n",
        "import seaborn as sns\n",
        "# import plotly as py\n",
        "import plotly.express as px\n",
        "# import plotly.graph_objs as go\n",
        "# from plotly.subplots import make_subplots\n",
        "# from plotly.offline import download_plotlyjs, init_notebook_mode, plot, iplot"
      ]
    },
    {
      "cell_type": "markdown",
      "metadata": {
        "id": "3G895U73Cgqd"
      },
      "source": [
        "###**Import Data**\n",
        "Import and Merge all the datasets to form one master Data"
      ]
    },
    {
      "cell_type": "code",
      "execution_count": 67,
      "metadata": {
        "id": "-C7RGppaC3JT"
      },
      "outputs": [],
      "source": [
        "from datetime import datetime\n",
        "\n",
        "def wrangle (w, x, y, z):\n",
        "  #read in Cab data\n",
        "  cab=pd.read_csv(w, parse_dates=True)\n",
        "  #change Date of Travel data type to date time\n",
        "  cab['Date of Travel']=cab['Date of Travel'].map(lambda date : datetime.fromordinal(datetime(1900,1,1).toordinal() + date))\n",
        "  #read in City data\n",
        "  city=pd.read_csv(x)\n",
        "  #read in Customer Data\n",
        "  customer=pd.read_csv(y)\n",
        "  #Read in Transaction data\n",
        "  Transaction=pd.read_csv(z)\n",
        "  #Merge Cab and Transaction  Data\n",
        "  cab_trans=cab.merge(Transaction, on='Transaction ID', how='left')\n",
        "  #Merge Cab, Transaction and Customer Data sets\n",
        "  data=cab_trans.merge(customer, on='Customer ID', how='left')\n",
        "  #Merge Cab, Transaction, Customer with City Data\n",
        "  data=data.merge(city, on=\"City\", how=\"left\")\n",
        "\n",
        "  return data\n"
      ]
    },
    {
      "cell_type": "code",
      "execution_count": 68,
      "metadata": {
        "colab": {
          "base_uri": "https://localhost:8080/",
          "height": 206
        },
        "id": "6H7XK4B_E2ar",
        "outputId": "767fa5d9-751b-47d4-92d7-7cabde878e80"
      },
      "outputs": [
        {
          "output_type": "execute_result",
          "data": {
            "text/plain": [
              "   Transaction ID Date of Travel   Company        City  KM Travelled  \\\n",
              "0        10000011     2016-01-10  Pink Cab  ATLANTA GA         30.45   \n",
              "1        10000012     2016-01-08  Pink Cab  ATLANTA GA         28.62   \n",
              "2        10000013     2016-01-04  Pink Cab  ATLANTA GA          9.04   \n",
              "3        10000014     2016-01-09  Pink Cab  ATLANTA GA         33.17   \n",
              "4        10000015     2016-01-05  Pink Cab  ATLANTA GA          8.73   \n",
              "\n",
              "   Price Charged  Cost of Trip  Customer ID Payment_Mode Gender  Age  \\\n",
              "0         370.95       313.635        29290         Card   Male   28   \n",
              "1         358.52       334.854        27703         Card   Male   27   \n",
              "2         125.20        97.632        28712         Cash   Male   53   \n",
              "3         377.40       351.602        28020         Cash   Male   23   \n",
              "4         114.62        97.776        27182         Card   Male   33   \n",
              "\n",
              "   Income (USD/Month) Population     Users  \n",
              "0               10813   814,885    24,701   \n",
              "1                9237   814,885    24,701   \n",
              "2               11242   814,885    24,701   \n",
              "3               23327   814,885    24,701   \n",
              "4                8536   814,885    24,701   "
            ],
            "text/html": [
              "\n",
              "  <div id=\"df-9f4e83e4-21db-4d07-a900-4b7e64aadca3\" class=\"colab-df-container\">\n",
              "    <div>\n",
              "<style scoped>\n",
              "    .dataframe tbody tr th:only-of-type {\n",
              "        vertical-align: middle;\n",
              "    }\n",
              "\n",
              "    .dataframe tbody tr th {\n",
              "        vertical-align: top;\n",
              "    }\n",
              "\n",
              "    .dataframe thead th {\n",
              "        text-align: right;\n",
              "    }\n",
              "</style>\n",
              "<table border=\"1\" class=\"dataframe\">\n",
              "  <thead>\n",
              "    <tr style=\"text-align: right;\">\n",
              "      <th></th>\n",
              "      <th>Transaction ID</th>\n",
              "      <th>Date of Travel</th>\n",
              "      <th>Company</th>\n",
              "      <th>City</th>\n",
              "      <th>KM Travelled</th>\n",
              "      <th>Price Charged</th>\n",
              "      <th>Cost of Trip</th>\n",
              "      <th>Customer ID</th>\n",
              "      <th>Payment_Mode</th>\n",
              "      <th>Gender</th>\n",
              "      <th>Age</th>\n",
              "      <th>Income (USD/Month)</th>\n",
              "      <th>Population</th>\n",
              "      <th>Users</th>\n",
              "    </tr>\n",
              "  </thead>\n",
              "  <tbody>\n",
              "    <tr>\n",
              "      <th>0</th>\n",
              "      <td>10000011</td>\n",
              "      <td>2016-01-10</td>\n",
              "      <td>Pink Cab</td>\n",
              "      <td>ATLANTA GA</td>\n",
              "      <td>30.45</td>\n",
              "      <td>370.95</td>\n",
              "      <td>313.635</td>\n",
              "      <td>29290</td>\n",
              "      <td>Card</td>\n",
              "      <td>Male</td>\n",
              "      <td>28</td>\n",
              "      <td>10813</td>\n",
              "      <td>814,885</td>\n",
              "      <td>24,701</td>\n",
              "    </tr>\n",
              "    <tr>\n",
              "      <th>1</th>\n",
              "      <td>10000012</td>\n",
              "      <td>2016-01-08</td>\n",
              "      <td>Pink Cab</td>\n",
              "      <td>ATLANTA GA</td>\n",
              "      <td>28.62</td>\n",
              "      <td>358.52</td>\n",
              "      <td>334.854</td>\n",
              "      <td>27703</td>\n",
              "      <td>Card</td>\n",
              "      <td>Male</td>\n",
              "      <td>27</td>\n",
              "      <td>9237</td>\n",
              "      <td>814,885</td>\n",
              "      <td>24,701</td>\n",
              "    </tr>\n",
              "    <tr>\n",
              "      <th>2</th>\n",
              "      <td>10000013</td>\n",
              "      <td>2016-01-04</td>\n",
              "      <td>Pink Cab</td>\n",
              "      <td>ATLANTA GA</td>\n",
              "      <td>9.04</td>\n",
              "      <td>125.20</td>\n",
              "      <td>97.632</td>\n",
              "      <td>28712</td>\n",
              "      <td>Cash</td>\n",
              "      <td>Male</td>\n",
              "      <td>53</td>\n",
              "      <td>11242</td>\n",
              "      <td>814,885</td>\n",
              "      <td>24,701</td>\n",
              "    </tr>\n",
              "    <tr>\n",
              "      <th>3</th>\n",
              "      <td>10000014</td>\n",
              "      <td>2016-01-09</td>\n",
              "      <td>Pink Cab</td>\n",
              "      <td>ATLANTA GA</td>\n",
              "      <td>33.17</td>\n",
              "      <td>377.40</td>\n",
              "      <td>351.602</td>\n",
              "      <td>28020</td>\n",
              "      <td>Cash</td>\n",
              "      <td>Male</td>\n",
              "      <td>23</td>\n",
              "      <td>23327</td>\n",
              "      <td>814,885</td>\n",
              "      <td>24,701</td>\n",
              "    </tr>\n",
              "    <tr>\n",
              "      <th>4</th>\n",
              "      <td>10000015</td>\n",
              "      <td>2016-01-05</td>\n",
              "      <td>Pink Cab</td>\n",
              "      <td>ATLANTA GA</td>\n",
              "      <td>8.73</td>\n",
              "      <td>114.62</td>\n",
              "      <td>97.776</td>\n",
              "      <td>27182</td>\n",
              "      <td>Card</td>\n",
              "      <td>Male</td>\n",
              "      <td>33</td>\n",
              "      <td>8536</td>\n",
              "      <td>814,885</td>\n",
              "      <td>24,701</td>\n",
              "    </tr>\n",
              "  </tbody>\n",
              "</table>\n",
              "</div>\n",
              "    <div class=\"colab-df-buttons\">\n",
              "\n",
              "  <div class=\"colab-df-container\">\n",
              "    <button class=\"colab-df-convert\" onclick=\"convertToInteractive('df-9f4e83e4-21db-4d07-a900-4b7e64aadca3')\"\n",
              "            title=\"Convert this dataframe to an interactive table.\"\n",
              "            style=\"display:none;\">\n",
              "\n",
              "  <svg xmlns=\"http://www.w3.org/2000/svg\" height=\"24px\" viewBox=\"0 -960 960 960\">\n",
              "    <path d=\"M120-120v-720h720v720H120Zm60-500h600v-160H180v160Zm220 220h160v-160H400v160Zm0 220h160v-160H400v160ZM180-400h160v-160H180v160Zm440 0h160v-160H620v160ZM180-180h160v-160H180v160Zm440 0h160v-160H620v160Z\"/>\n",
              "  </svg>\n",
              "    </button>\n",
              "\n",
              "  <style>\n",
              "    .colab-df-container {\n",
              "      display:flex;\n",
              "      gap: 12px;\n",
              "    }\n",
              "\n",
              "    .colab-df-convert {\n",
              "      background-color: #E8F0FE;\n",
              "      border: none;\n",
              "      border-radius: 50%;\n",
              "      cursor: pointer;\n",
              "      display: none;\n",
              "      fill: #1967D2;\n",
              "      height: 32px;\n",
              "      padding: 0 0 0 0;\n",
              "      width: 32px;\n",
              "    }\n",
              "\n",
              "    .colab-df-convert:hover {\n",
              "      background-color: #E2EBFA;\n",
              "      box-shadow: 0px 1px 2px rgba(60, 64, 67, 0.3), 0px 1px 3px 1px rgba(60, 64, 67, 0.15);\n",
              "      fill: #174EA6;\n",
              "    }\n",
              "\n",
              "    .colab-df-buttons div {\n",
              "      margin-bottom: 4px;\n",
              "    }\n",
              "\n",
              "    [theme=dark] .colab-df-convert {\n",
              "      background-color: #3B4455;\n",
              "      fill: #D2E3FC;\n",
              "    }\n",
              "\n",
              "    [theme=dark] .colab-df-convert:hover {\n",
              "      background-color: #434B5C;\n",
              "      box-shadow: 0px 1px 3px 1px rgba(0, 0, 0, 0.15);\n",
              "      filter: drop-shadow(0px 1px 2px rgba(0, 0, 0, 0.3));\n",
              "      fill: #FFFFFF;\n",
              "    }\n",
              "  </style>\n",
              "\n",
              "    <script>\n",
              "      const buttonEl =\n",
              "        document.querySelector('#df-9f4e83e4-21db-4d07-a900-4b7e64aadca3 button.colab-df-convert');\n",
              "      buttonEl.style.display =\n",
              "        google.colab.kernel.accessAllowed ? 'block' : 'none';\n",
              "\n",
              "      async function convertToInteractive(key) {\n",
              "        const element = document.querySelector('#df-9f4e83e4-21db-4d07-a900-4b7e64aadca3');\n",
              "        const dataTable =\n",
              "          await google.colab.kernel.invokeFunction('convertToInteractive',\n",
              "                                                    [key], {});\n",
              "        if (!dataTable) return;\n",
              "\n",
              "        const docLinkHtml = 'Like what you see? Visit the ' +\n",
              "          '<a target=\"_blank\" href=https://colab.research.google.com/notebooks/data_table.ipynb>data table notebook</a>'\n",
              "          + ' to learn more about interactive tables.';\n",
              "        element.innerHTML = '';\n",
              "        dataTable['output_type'] = 'display_data';\n",
              "        await google.colab.output.renderOutput(dataTable, element);\n",
              "        const docLink = document.createElement('div');\n",
              "        docLink.innerHTML = docLinkHtml;\n",
              "        element.appendChild(docLink);\n",
              "      }\n",
              "    </script>\n",
              "  </div>\n",
              "\n",
              "\n",
              "<div id=\"df-26ca9bea-da11-40dc-b2a5-ca9065736f17\">\n",
              "  <button class=\"colab-df-quickchart\" onclick=\"quickchart('df-26ca9bea-da11-40dc-b2a5-ca9065736f17')\"\n",
              "            title=\"Suggest charts\"\n",
              "            style=\"display:none;\">\n",
              "\n",
              "<svg xmlns=\"http://www.w3.org/2000/svg\" height=\"24px\"viewBox=\"0 0 24 24\"\n",
              "     width=\"24px\">\n",
              "    <g>\n",
              "        <path d=\"M19 3H5c-1.1 0-2 .9-2 2v14c0 1.1.9 2 2 2h14c1.1 0 2-.9 2-2V5c0-1.1-.9-2-2-2zM9 17H7v-7h2v7zm4 0h-2V7h2v10zm4 0h-2v-4h2v4z\"/>\n",
              "    </g>\n",
              "</svg>\n",
              "  </button>\n",
              "\n",
              "<style>\n",
              "  .colab-df-quickchart {\n",
              "      --bg-color: #E8F0FE;\n",
              "      --fill-color: #1967D2;\n",
              "      --hover-bg-color: #E2EBFA;\n",
              "      --hover-fill-color: #174EA6;\n",
              "      --disabled-fill-color: #AAA;\n",
              "      --disabled-bg-color: #DDD;\n",
              "  }\n",
              "\n",
              "  [theme=dark] .colab-df-quickchart {\n",
              "      --bg-color: #3B4455;\n",
              "      --fill-color: #D2E3FC;\n",
              "      --hover-bg-color: #434B5C;\n",
              "      --hover-fill-color: #FFFFFF;\n",
              "      --disabled-bg-color: #3B4455;\n",
              "      --disabled-fill-color: #666;\n",
              "  }\n",
              "\n",
              "  .colab-df-quickchart {\n",
              "    background-color: var(--bg-color);\n",
              "    border: none;\n",
              "    border-radius: 50%;\n",
              "    cursor: pointer;\n",
              "    display: none;\n",
              "    fill: var(--fill-color);\n",
              "    height: 32px;\n",
              "    padding: 0;\n",
              "    width: 32px;\n",
              "  }\n",
              "\n",
              "  .colab-df-quickchart:hover {\n",
              "    background-color: var(--hover-bg-color);\n",
              "    box-shadow: 0 1px 2px rgba(60, 64, 67, 0.3), 0 1px 3px 1px rgba(60, 64, 67, 0.15);\n",
              "    fill: var(--button-hover-fill-color);\n",
              "  }\n",
              "\n",
              "  .colab-df-quickchart-complete:disabled,\n",
              "  .colab-df-quickchart-complete:disabled:hover {\n",
              "    background-color: var(--disabled-bg-color);\n",
              "    fill: var(--disabled-fill-color);\n",
              "    box-shadow: none;\n",
              "  }\n",
              "\n",
              "  .colab-df-spinner {\n",
              "    border: 2px solid var(--fill-color);\n",
              "    border-color: transparent;\n",
              "    border-bottom-color: var(--fill-color);\n",
              "    animation:\n",
              "      spin 1s steps(1) infinite;\n",
              "  }\n",
              "\n",
              "  @keyframes spin {\n",
              "    0% {\n",
              "      border-color: transparent;\n",
              "      border-bottom-color: var(--fill-color);\n",
              "      border-left-color: var(--fill-color);\n",
              "    }\n",
              "    20% {\n",
              "      border-color: transparent;\n",
              "      border-left-color: var(--fill-color);\n",
              "      border-top-color: var(--fill-color);\n",
              "    }\n",
              "    30% {\n",
              "      border-color: transparent;\n",
              "      border-left-color: var(--fill-color);\n",
              "      border-top-color: var(--fill-color);\n",
              "      border-right-color: var(--fill-color);\n",
              "    }\n",
              "    40% {\n",
              "      border-color: transparent;\n",
              "      border-right-color: var(--fill-color);\n",
              "      border-top-color: var(--fill-color);\n",
              "    }\n",
              "    60% {\n",
              "      border-color: transparent;\n",
              "      border-right-color: var(--fill-color);\n",
              "    }\n",
              "    80% {\n",
              "      border-color: transparent;\n",
              "      border-right-color: var(--fill-color);\n",
              "      border-bottom-color: var(--fill-color);\n",
              "    }\n",
              "    90% {\n",
              "      border-color: transparent;\n",
              "      border-bottom-color: var(--fill-color);\n",
              "    }\n",
              "  }\n",
              "</style>\n",
              "\n",
              "  <script>\n",
              "    async function quickchart(key) {\n",
              "      const quickchartButtonEl =\n",
              "        document.querySelector('#' + key + ' button');\n",
              "      quickchartButtonEl.disabled = true;  // To prevent multiple clicks.\n",
              "      quickchartButtonEl.classList.add('colab-df-spinner');\n",
              "      try {\n",
              "        const charts = await google.colab.kernel.invokeFunction(\n",
              "            'suggestCharts', [key], {});\n",
              "      } catch (error) {\n",
              "        console.error('Error during call to suggestCharts:', error);\n",
              "      }\n",
              "      quickchartButtonEl.classList.remove('colab-df-spinner');\n",
              "      quickchartButtonEl.classList.add('colab-df-quickchart-complete');\n",
              "    }\n",
              "    (() => {\n",
              "      let quickchartButtonEl =\n",
              "        document.querySelector('#df-26ca9bea-da11-40dc-b2a5-ca9065736f17 button');\n",
              "      quickchartButtonEl.style.display =\n",
              "        google.colab.kernel.accessAllowed ? 'block' : 'none';\n",
              "    })();\n",
              "  </script>\n",
              "</div>\n",
              "\n",
              "    </div>\n",
              "  </div>\n"
            ],
            "application/vnd.google.colaboratory.intrinsic+json": {
              "type": "dataframe",
              "variable_name": "df"
            }
          },
          "metadata": {},
          "execution_count": 68
        }
      ],
      "source": [
        "cab_url='https://raw.githubusercontent.com/DataGlacier/DataSets/main/Cab_Data.csv'\n",
        "city_url='https://raw.githubusercontent.com/DataGlacier/DataSets/main/City.csv'\n",
        "customer_url='https://raw.githubusercontent.com/DataGlacier/DataSets/main/Customer_ID.csv'\n",
        "transaction_url='https://raw.githubusercontent.com/DataGlacier/DataSets/main/Transaction_ID.csv'\n",
        "\n",
        "df=wrangle(cab_url, city_url, customer_url, transaction_url)\n",
        "df.head()"
      ]
    },
    {
      "cell_type": "code",
      "execution_count": 70,
      "metadata": {
        "colab": {
          "base_uri": "https://localhost:8080/"
        },
        "id": "1P1Ct83nL8Va",
        "outputId": "cbfaacde-2a65-4318-c496-35cfbf57e476"
      },
      "outputs": [
        {
          "output_type": "stream",
          "name": "stdout",
          "text": [
            "(359392, 14)\n",
            "<class 'pandas.core.frame.DataFrame'>\n",
            "RangeIndex: 359392 entries, 0 to 359391\n",
            "Data columns (total 14 columns):\n",
            " #   Column              Non-Null Count   Dtype         \n",
            "---  ------              --------------   -----         \n",
            " 0   Transaction ID      359392 non-null  int64         \n",
            " 1   Date of Travel      359392 non-null  datetime64[ns]\n",
            " 2   Company             359392 non-null  object        \n",
            " 3   City                359392 non-null  object        \n",
            " 4   KM Travelled        359392 non-null  float64       \n",
            " 5   Price Charged       359392 non-null  float64       \n",
            " 6   Cost of Trip        359392 non-null  float64       \n",
            " 7   Customer ID         359392 non-null  int64         \n",
            " 8   Payment_Mode        359392 non-null  object        \n",
            " 9   Gender              359392 non-null  object        \n",
            " 10  Age                 359392 non-null  int64         \n",
            " 11  Income (USD/Month)  359392 non-null  int64         \n",
            " 12  Population          359392 non-null  object        \n",
            " 13  Users               359392 non-null  object        \n",
            "dtypes: datetime64[ns](1), float64(3), int64(4), object(6)\n",
            "memory usage: 38.4+ MB\n"
          ]
        }
      ],
      "source": [
        "print(df.shape)\n",
        "df.info()"
      ]
    },
    {
      "cell_type": "markdown",
      "metadata": {
        "id": "t9q7Y_ViLmeF"
      },
      "source": [
        "###**Exploratory Data Anlysis**"
      ]
    },
    {
      "cell_type": "markdown",
      "metadata": {
        "id": "29p-vlgyM_xL"
      },
      "source": [
        "####**Data Cleaning**"
      ]
    },
    {
      "cell_type": "code",
      "execution_count": 71,
      "metadata": {
        "colab": {
          "base_uri": "https://localhost:8080/",
          "height": 206
        },
        "id": "EbFRVSY9B-zO",
        "outputId": "ba2dea44-e837-4946-ad9f-ec53bc71877d"
      },
      "outputs": [
        {
          "output_type": "execute_result",
          "data": {
            "text/plain": [
              "   Transaction ID Date of Travel   Company        City  KM Travelled  \\\n",
              "0        10000011     2016-01-10  Pink Cab  ATLANTA GA         30.45   \n",
              "1        10000012     2016-01-08  Pink Cab  ATLANTA GA         28.62   \n",
              "2        10000013     2016-01-04  Pink Cab  ATLANTA GA          9.04   \n",
              "3        10000014     2016-01-09  Pink Cab  ATLANTA GA         33.17   \n",
              "4        10000015     2016-01-05  Pink Cab  ATLANTA GA          8.73   \n",
              "\n",
              "   Price Charged  Cost of Trip  Customer ID Payment_Mode Gender  Age  \\\n",
              "0         370.95       313.635        29290         Card   Male   28   \n",
              "1         358.52       334.854        27703         Card   Male   27   \n",
              "2         125.20        97.632        28712         Cash   Male   53   \n",
              "3         377.40       351.602        28020         Cash   Male   23   \n",
              "4         114.62        97.776        27182         Card   Male   33   \n",
              "\n",
              "   Income (USD/Month)  Population  Users  Year  Month  Profit Day_of_week  \n",
              "0               10813      814885  24701  2016      1  57.315      Sunday  \n",
              "1                9237      814885  24701  2016      1  23.666      Friday  \n",
              "2               11242      814885  24701  2016      1  27.568      Monday  \n",
              "3               23327      814885  24701  2016      1  25.798    Saturday  \n",
              "4                8536      814885  24701  2016      1  16.844     Tuesday  "
            ],
            "text/html": [
              "\n",
              "  <div id=\"df-ffdab2bb-8fbb-4bdd-9ce1-035f01c26bb5\" class=\"colab-df-container\">\n",
              "    <div>\n",
              "<style scoped>\n",
              "    .dataframe tbody tr th:only-of-type {\n",
              "        vertical-align: middle;\n",
              "    }\n",
              "\n",
              "    .dataframe tbody tr th {\n",
              "        vertical-align: top;\n",
              "    }\n",
              "\n",
              "    .dataframe thead th {\n",
              "        text-align: right;\n",
              "    }\n",
              "</style>\n",
              "<table border=\"1\" class=\"dataframe\">\n",
              "  <thead>\n",
              "    <tr style=\"text-align: right;\">\n",
              "      <th></th>\n",
              "      <th>Transaction ID</th>\n",
              "      <th>Date of Travel</th>\n",
              "      <th>Company</th>\n",
              "      <th>City</th>\n",
              "      <th>KM Travelled</th>\n",
              "      <th>Price Charged</th>\n",
              "      <th>Cost of Trip</th>\n",
              "      <th>Customer ID</th>\n",
              "      <th>Payment_Mode</th>\n",
              "      <th>Gender</th>\n",
              "      <th>Age</th>\n",
              "      <th>Income (USD/Month)</th>\n",
              "      <th>Population</th>\n",
              "      <th>Users</th>\n",
              "      <th>Year</th>\n",
              "      <th>Month</th>\n",
              "      <th>Profit</th>\n",
              "      <th>Day_of_week</th>\n",
              "    </tr>\n",
              "  </thead>\n",
              "  <tbody>\n",
              "    <tr>\n",
              "      <th>0</th>\n",
              "      <td>10000011</td>\n",
              "      <td>2016-01-10</td>\n",
              "      <td>Pink Cab</td>\n",
              "      <td>ATLANTA GA</td>\n",
              "      <td>30.45</td>\n",
              "      <td>370.95</td>\n",
              "      <td>313.635</td>\n",
              "      <td>29290</td>\n",
              "      <td>Card</td>\n",
              "      <td>Male</td>\n",
              "      <td>28</td>\n",
              "      <td>10813</td>\n",
              "      <td>814885</td>\n",
              "      <td>24701</td>\n",
              "      <td>2016</td>\n",
              "      <td>1</td>\n",
              "      <td>57.315</td>\n",
              "      <td>Sunday</td>\n",
              "    </tr>\n",
              "    <tr>\n",
              "      <th>1</th>\n",
              "      <td>10000012</td>\n",
              "      <td>2016-01-08</td>\n",
              "      <td>Pink Cab</td>\n",
              "      <td>ATLANTA GA</td>\n",
              "      <td>28.62</td>\n",
              "      <td>358.52</td>\n",
              "      <td>334.854</td>\n",
              "      <td>27703</td>\n",
              "      <td>Card</td>\n",
              "      <td>Male</td>\n",
              "      <td>27</td>\n",
              "      <td>9237</td>\n",
              "      <td>814885</td>\n",
              "      <td>24701</td>\n",
              "      <td>2016</td>\n",
              "      <td>1</td>\n",
              "      <td>23.666</td>\n",
              "      <td>Friday</td>\n",
              "    </tr>\n",
              "    <tr>\n",
              "      <th>2</th>\n",
              "      <td>10000013</td>\n",
              "      <td>2016-01-04</td>\n",
              "      <td>Pink Cab</td>\n",
              "      <td>ATLANTA GA</td>\n",
              "      <td>9.04</td>\n",
              "      <td>125.20</td>\n",
              "      <td>97.632</td>\n",
              "      <td>28712</td>\n",
              "      <td>Cash</td>\n",
              "      <td>Male</td>\n",
              "      <td>53</td>\n",
              "      <td>11242</td>\n",
              "      <td>814885</td>\n",
              "      <td>24701</td>\n",
              "      <td>2016</td>\n",
              "      <td>1</td>\n",
              "      <td>27.568</td>\n",
              "      <td>Monday</td>\n",
              "    </tr>\n",
              "    <tr>\n",
              "      <th>3</th>\n",
              "      <td>10000014</td>\n",
              "      <td>2016-01-09</td>\n",
              "      <td>Pink Cab</td>\n",
              "      <td>ATLANTA GA</td>\n",
              "      <td>33.17</td>\n",
              "      <td>377.40</td>\n",
              "      <td>351.602</td>\n",
              "      <td>28020</td>\n",
              "      <td>Cash</td>\n",
              "      <td>Male</td>\n",
              "      <td>23</td>\n",
              "      <td>23327</td>\n",
              "      <td>814885</td>\n",
              "      <td>24701</td>\n",
              "      <td>2016</td>\n",
              "      <td>1</td>\n",
              "      <td>25.798</td>\n",
              "      <td>Saturday</td>\n",
              "    </tr>\n",
              "    <tr>\n",
              "      <th>4</th>\n",
              "      <td>10000015</td>\n",
              "      <td>2016-01-05</td>\n",
              "      <td>Pink Cab</td>\n",
              "      <td>ATLANTA GA</td>\n",
              "      <td>8.73</td>\n",
              "      <td>114.62</td>\n",
              "      <td>97.776</td>\n",
              "      <td>27182</td>\n",
              "      <td>Card</td>\n",
              "      <td>Male</td>\n",
              "      <td>33</td>\n",
              "      <td>8536</td>\n",
              "      <td>814885</td>\n",
              "      <td>24701</td>\n",
              "      <td>2016</td>\n",
              "      <td>1</td>\n",
              "      <td>16.844</td>\n",
              "      <td>Tuesday</td>\n",
              "    </tr>\n",
              "  </tbody>\n",
              "</table>\n",
              "</div>\n",
              "    <div class=\"colab-df-buttons\">\n",
              "\n",
              "  <div class=\"colab-df-container\">\n",
              "    <button class=\"colab-df-convert\" onclick=\"convertToInteractive('df-ffdab2bb-8fbb-4bdd-9ce1-035f01c26bb5')\"\n",
              "            title=\"Convert this dataframe to an interactive table.\"\n",
              "            style=\"display:none;\">\n",
              "\n",
              "  <svg xmlns=\"http://www.w3.org/2000/svg\" height=\"24px\" viewBox=\"0 -960 960 960\">\n",
              "    <path d=\"M120-120v-720h720v720H120Zm60-500h600v-160H180v160Zm220 220h160v-160H400v160Zm0 220h160v-160H400v160ZM180-400h160v-160H180v160Zm440 0h160v-160H620v160ZM180-180h160v-160H180v160Zm440 0h160v-160H620v160Z\"/>\n",
              "  </svg>\n",
              "    </button>\n",
              "\n",
              "  <style>\n",
              "    .colab-df-container {\n",
              "      display:flex;\n",
              "      gap: 12px;\n",
              "    }\n",
              "\n",
              "    .colab-df-convert {\n",
              "      background-color: #E8F0FE;\n",
              "      border: none;\n",
              "      border-radius: 50%;\n",
              "      cursor: pointer;\n",
              "      display: none;\n",
              "      fill: #1967D2;\n",
              "      height: 32px;\n",
              "      padding: 0 0 0 0;\n",
              "      width: 32px;\n",
              "    }\n",
              "\n",
              "    .colab-df-convert:hover {\n",
              "      background-color: #E2EBFA;\n",
              "      box-shadow: 0px 1px 2px rgba(60, 64, 67, 0.3), 0px 1px 3px 1px rgba(60, 64, 67, 0.15);\n",
              "      fill: #174EA6;\n",
              "    }\n",
              "\n",
              "    .colab-df-buttons div {\n",
              "      margin-bottom: 4px;\n",
              "    }\n",
              "\n",
              "    [theme=dark] .colab-df-convert {\n",
              "      background-color: #3B4455;\n",
              "      fill: #D2E3FC;\n",
              "    }\n",
              "\n",
              "    [theme=dark] .colab-df-convert:hover {\n",
              "      background-color: #434B5C;\n",
              "      box-shadow: 0px 1px 3px 1px rgba(0, 0, 0, 0.15);\n",
              "      filter: drop-shadow(0px 1px 2px rgba(0, 0, 0, 0.3));\n",
              "      fill: #FFFFFF;\n",
              "    }\n",
              "  </style>\n",
              "\n",
              "    <script>\n",
              "      const buttonEl =\n",
              "        document.querySelector('#df-ffdab2bb-8fbb-4bdd-9ce1-035f01c26bb5 button.colab-df-convert');\n",
              "      buttonEl.style.display =\n",
              "        google.colab.kernel.accessAllowed ? 'block' : 'none';\n",
              "\n",
              "      async function convertToInteractive(key) {\n",
              "        const element = document.querySelector('#df-ffdab2bb-8fbb-4bdd-9ce1-035f01c26bb5');\n",
              "        const dataTable =\n",
              "          await google.colab.kernel.invokeFunction('convertToInteractive',\n",
              "                                                    [key], {});\n",
              "        if (!dataTable) return;\n",
              "\n",
              "        const docLinkHtml = 'Like what you see? Visit the ' +\n",
              "          '<a target=\"_blank\" href=https://colab.research.google.com/notebooks/data_table.ipynb>data table notebook</a>'\n",
              "          + ' to learn more about interactive tables.';\n",
              "        element.innerHTML = '';\n",
              "        dataTable['output_type'] = 'display_data';\n",
              "        await google.colab.output.renderOutput(dataTable, element);\n",
              "        const docLink = document.createElement('div');\n",
              "        docLink.innerHTML = docLinkHtml;\n",
              "        element.appendChild(docLink);\n",
              "      }\n",
              "    </script>\n",
              "  </div>\n",
              "\n",
              "\n",
              "<div id=\"df-fa0c1ec0-44f6-4ac5-94f0-3ae6356ca6e4\">\n",
              "  <button class=\"colab-df-quickchart\" onclick=\"quickchart('df-fa0c1ec0-44f6-4ac5-94f0-3ae6356ca6e4')\"\n",
              "            title=\"Suggest charts\"\n",
              "            style=\"display:none;\">\n",
              "\n",
              "<svg xmlns=\"http://www.w3.org/2000/svg\" height=\"24px\"viewBox=\"0 0 24 24\"\n",
              "     width=\"24px\">\n",
              "    <g>\n",
              "        <path d=\"M19 3H5c-1.1 0-2 .9-2 2v14c0 1.1.9 2 2 2h14c1.1 0 2-.9 2-2V5c0-1.1-.9-2-2-2zM9 17H7v-7h2v7zm4 0h-2V7h2v10zm4 0h-2v-4h2v4z\"/>\n",
              "    </g>\n",
              "</svg>\n",
              "  </button>\n",
              "\n",
              "<style>\n",
              "  .colab-df-quickchart {\n",
              "      --bg-color: #E8F0FE;\n",
              "      --fill-color: #1967D2;\n",
              "      --hover-bg-color: #E2EBFA;\n",
              "      --hover-fill-color: #174EA6;\n",
              "      --disabled-fill-color: #AAA;\n",
              "      --disabled-bg-color: #DDD;\n",
              "  }\n",
              "\n",
              "  [theme=dark] .colab-df-quickchart {\n",
              "      --bg-color: #3B4455;\n",
              "      --fill-color: #D2E3FC;\n",
              "      --hover-bg-color: #434B5C;\n",
              "      --hover-fill-color: #FFFFFF;\n",
              "      --disabled-bg-color: #3B4455;\n",
              "      --disabled-fill-color: #666;\n",
              "  }\n",
              "\n",
              "  .colab-df-quickchart {\n",
              "    background-color: var(--bg-color);\n",
              "    border: none;\n",
              "    border-radius: 50%;\n",
              "    cursor: pointer;\n",
              "    display: none;\n",
              "    fill: var(--fill-color);\n",
              "    height: 32px;\n",
              "    padding: 0;\n",
              "    width: 32px;\n",
              "  }\n",
              "\n",
              "  .colab-df-quickchart:hover {\n",
              "    background-color: var(--hover-bg-color);\n",
              "    box-shadow: 0 1px 2px rgba(60, 64, 67, 0.3), 0 1px 3px 1px rgba(60, 64, 67, 0.15);\n",
              "    fill: var(--button-hover-fill-color);\n",
              "  }\n",
              "\n",
              "  .colab-df-quickchart-complete:disabled,\n",
              "  .colab-df-quickchart-complete:disabled:hover {\n",
              "    background-color: var(--disabled-bg-color);\n",
              "    fill: var(--disabled-fill-color);\n",
              "    box-shadow: none;\n",
              "  }\n",
              "\n",
              "  .colab-df-spinner {\n",
              "    border: 2px solid var(--fill-color);\n",
              "    border-color: transparent;\n",
              "    border-bottom-color: var(--fill-color);\n",
              "    animation:\n",
              "      spin 1s steps(1) infinite;\n",
              "  }\n",
              "\n",
              "  @keyframes spin {\n",
              "    0% {\n",
              "      border-color: transparent;\n",
              "      border-bottom-color: var(--fill-color);\n",
              "      border-left-color: var(--fill-color);\n",
              "    }\n",
              "    20% {\n",
              "      border-color: transparent;\n",
              "      border-left-color: var(--fill-color);\n",
              "      border-top-color: var(--fill-color);\n",
              "    }\n",
              "    30% {\n",
              "      border-color: transparent;\n",
              "      border-left-color: var(--fill-color);\n",
              "      border-top-color: var(--fill-color);\n",
              "      border-right-color: var(--fill-color);\n",
              "    }\n",
              "    40% {\n",
              "      border-color: transparent;\n",
              "      border-right-color: var(--fill-color);\n",
              "      border-top-color: var(--fill-color);\n",
              "    }\n",
              "    60% {\n",
              "      border-color: transparent;\n",
              "      border-right-color: var(--fill-color);\n",
              "    }\n",
              "    80% {\n",
              "      border-color: transparent;\n",
              "      border-right-color: var(--fill-color);\n",
              "      border-bottom-color: var(--fill-color);\n",
              "    }\n",
              "    90% {\n",
              "      border-color: transparent;\n",
              "      border-bottom-color: var(--fill-color);\n",
              "    }\n",
              "  }\n",
              "</style>\n",
              "\n",
              "  <script>\n",
              "    async function quickchart(key) {\n",
              "      const quickchartButtonEl =\n",
              "        document.querySelector('#' + key + ' button');\n",
              "      quickchartButtonEl.disabled = true;  // To prevent multiple clicks.\n",
              "      quickchartButtonEl.classList.add('colab-df-spinner');\n",
              "      try {\n",
              "        const charts = await google.colab.kernel.invokeFunction(\n",
              "            'suggestCharts', [key], {});\n",
              "      } catch (error) {\n",
              "        console.error('Error during call to suggestCharts:', error);\n",
              "      }\n",
              "      quickchartButtonEl.classList.remove('colab-df-spinner');\n",
              "      quickchartButtonEl.classList.add('colab-df-quickchart-complete');\n",
              "    }\n",
              "    (() => {\n",
              "      let quickchartButtonEl =\n",
              "        document.querySelector('#df-fa0c1ec0-44f6-4ac5-94f0-3ae6356ca6e4 button');\n",
              "      quickchartButtonEl.style.display =\n",
              "        google.colab.kernel.accessAllowed ? 'block' : 'none';\n",
              "    })();\n",
              "  </script>\n",
              "</div>\n",
              "\n",
              "    </div>\n",
              "  </div>\n"
            ],
            "application/vnd.google.colaboratory.intrinsic+json": {
              "type": "dataframe",
              "variable_name": "df"
            }
          },
          "metadata": {},
          "execution_count": 71
        }
      ],
      "source": [
        "def feature(i):\n",
        "  #Extract the Year Column\n",
        "  df['Year'] = pd.DatetimeIndex(df['Date of Travel']).year\n",
        "  #Extract the Month column from Date of travel\n",
        "  df['Month'] = pd.DatetimeIndex(df['Date of Travel']).month\n",
        "\n",
        "  # Calculating profit\n",
        "  df['Profit'] = df['Price Charged'] - df['Cost of Trip']\n",
        "\n",
        "  #Extract day of the week\n",
        "  df['Day_of_week'] = df['Date of Travel'].dt.day_name()\n",
        "  #Drop population column\n",
        "  #df.drop(columns=['Population'], inplace=True)\n",
        "\n",
        "  #remove commas from users column\n",
        "  df['Users']=df['Users'].str.replace(\",\", \"\", regex=False).astype(int)\n",
        "  df['Population']=df['Population'].str.replace(\",\", \"\", regex=False).astype(int)\n",
        "\n",
        "  return df\n",
        "df=feature(df)\n",
        "df.head()"
      ]
    },
    {
      "cell_type": "markdown",
      "metadata": {
        "id": "F_8dB57CP4nA"
      },
      "source": [
        "##**Comaprision Between Pink Cab and Yellow Cab Trends**"
      ]
    },
    {
      "cell_type": "markdown",
      "source": [
        "### Market Share"
      ],
      "metadata": {
        "id": "QbSx_9TwYits"
      }
    },
    {
      "cell_type": "code",
      "execution_count": 42,
      "metadata": {
        "id": "s6DQjhXmdfu3"
      },
      "outputs": [],
      "source": [
        "# cab_color={'Pink Cab':'pink',\n",
        "#            'Yellow Cab':'yellow'}\n",
        "\n",
        "\n",
        "# i=df['Company'].value_counts()\n",
        "# print(i)\n",
        "\n",
        "# fig = px.pie(df, names=\"Company\",\n",
        "#              color='Company',\n",
        "#              color_discrete_map=cab_color,\n",
        "#              title=\"Share of cab rides between Yellow Cab and Pink Cab\"\n",
        "#              )\n",
        "# fig.update_layout(title_x=0.5, width=500,height=500)\n",
        "# fig.show();"
      ]
    },
    {
      "cell_type": "markdown",
      "source": [
        "- Yellow cabs hold a dominant market share of 76.4%, compared to Pink Cabs' 23.6%."
      ],
      "metadata": {
        "id": "6DjVs4oYowtF"
      }
    },
    {
      "cell_type": "code",
      "source": [
        "# year=df.groupby(['Year', 'Company'])['Transaction ID'].count().reset_index()\n",
        "# fig=px.bar(year, x='Year', y=\"Transaction ID\", color='Company', barmode=\"group\", color_discrete_map=cab_color, text_auto=True)\n",
        "# fig.show();"
      ],
      "metadata": {
        "id": "6XVfJUq7iyWU"
      },
      "execution_count": 43,
      "outputs": []
    },
    {
      "cell_type": "markdown",
      "source": [
        "- Cab usage for both companies rose from 2016 to 2017. However, 2018 data shows a slight decline.However, information for 2019 is incomplete."
      ],
      "metadata": {
        "id": "HXUGP1XClRWx"
      }
    },
    {
      "cell_type": "code",
      "source": [
        "# pop=df.groupby([\"City\"]).agg({'Users':pd.Series.mean,\n",
        "#                           'Population':pd.Series.mean,\n",
        "#                           }).reset_index()\n",
        "# pop['User/Pop']=round(((pop['Users']/pop['Population'])*100), 2)\n",
        "\n",
        "# pop.sort_values(by='Population', ascending=False, inplace=True)\n",
        "# pop"
      ],
      "metadata": {
        "id": "aDUqmoeQTvKM"
      },
      "execution_count": 44,
      "outputs": []
    },
    {
      "cell_type": "code",
      "source": [
        "# fig=px.bar(pop, x='City', y='User/Pop',color_discrete_map=cab_color, title=\"Percentage of Cab Users per City\", text_auto=True)\n",
        "# fig.update_layout(title_x=0.5, yaxis_title='Percentage of Cab Users')\n",
        "# fig.show();"
      ],
      "metadata": {
        "id": "ABEqL8lNWhs-"
      },
      "execution_count": 45,
      "outputs": []
    },
    {
      "cell_type": "markdown",
      "source": [
        "- Surprisingly, New York City, despite its large population, has a cab user rate of only 3.59%. In contrast, Boston and Washington boast significantly higher usage rates of 32.14% and 30.32%, respectively despite being less populus cities."
      ],
      "metadata": {
        "id": "40_IwvxLZTjJ"
      }
    },
    {
      "cell_type": "code",
      "source": [
        "# def two_var(x,y, z):\n",
        "#   i=df.groupby([x, y]).agg({z:pd.Series.nunique}).reset_index().sort_values(by=z, ascending=False)\n",
        "\n",
        "#   return i\n",
        "\n",
        "# city=two_var('City','Company', 'Transaction ID')\n",
        "# fig=px.bar(city, x='City', y='Transaction ID', color='Company',color_discrete_map=cab_color, title=\"Cab Market Share in Different Cities\", text_auto=True )\n",
        "# fig.update_layout(title_x=0.5)\n",
        "# fig.show();"
      ],
      "metadata": {
        "id": "7zq-Xfglqgmm"
      },
      "execution_count": 46,
      "outputs": []
    },
    {
      "cell_type": "markdown",
      "source": [
        "- Yellow Cab dominates the taxi market in most cities, except San Diego, Nashville, and Sacramento, where Pink Cab takes the lead."
      ],
      "metadata": {
        "id": "pZh5hKnatTpi"
      }
    },
    {
      "cell_type": "code",
      "source": [
        "# #Create a plotly bar graph function to avoid repetition\n",
        "# def plot_bar(data, x, y, t):\n",
        "#   fig=px.bar(data, x, y, color='Company',color_discrete_map=cab_color, title=t, text_auto=True, barmode=\"group\")\n",
        "#   fig.update_layout(title_x=0.5, yaxis_title=\"Total Number of Rides\")\n",
        "#   return fig\n"
      ],
      "metadata": {
        "id": "5SJt4ulEwDFU"
      },
      "execution_count": 47,
      "outputs": []
    },
    {
      "cell_type": "code",
      "source": [
        "# fig = px.pie(df, names=\"Gender\",\n",
        "#              color='Gender',\n",
        "#              title=\"Share of cab rides between Yellow Cab and Pink Cab\"\n",
        "#              )\n",
        "# fig.update_layout(title_x=0.5, width=500,height=500)\n",
        "# fig.show();"
      ],
      "metadata": {
        "id": "wsu2V3V_CBzm"
      },
      "execution_count": 48,
      "outputs": []
    },
    {
      "cell_type": "code",
      "source": [
        "# gender=two_var(\"Company\", 'Gender', 'Transaction ID')\n",
        "# fig=plot_bar(gender, x='Gender', y='Transaction ID', t=\"Cab Company prefence by Gender\")\n",
        "# fig.update_layout(title_x=0.5, width=500,height=500)\n",
        "# fig.show();"
      ],
      "metadata": {
        "id": "cnZjdsoqtSOZ"
      },
      "execution_count": 49,
      "outputs": []
    },
    {
      "cell_type": "markdown",
      "source": [
        "- Data indicate men order taxis at a significantly higher rate at 57.3%. However, Yellow cabs seem to be popular with both genders, this is possibly due to it's wider availability compared to Pink Cab."
      ],
      "metadata": {
        "id": "fOdx73vHzkMK"
      }
    },
    {
      "cell_type": "markdown",
      "source": [
        "### Demographic Distribution"
      ],
      "metadata": {
        "id": "Y-RW_8Ybfx1P"
      }
    },
    {
      "cell_type": "code",
      "source": [
        "# fig = px.violin(df, y=\"Income (USD/Month)\", color=\"Gender\", x=\"Company\", color_discrete_map=cab_color, title=\"Income Distribution Between Gender and Company\", box=True)\n",
        "# fig.update_layout(title_x=0.5, width=800,height=500)\n",
        "# fig.show();"
      ],
      "metadata": {
        "id": "P-C7ng3xCS4Q"
      },
      "execution_count": 50,
      "outputs": []
    },
    {
      "cell_type": "markdown",
      "source": [
        "- The violin plot reveals a close resemblance in income distribution between customers using both taxi services, regardless of gender."
      ],
      "metadata": {
        "id": "FHlrmEgTL9Ch"
      }
    },
    {
      "cell_type": "code",
      "source": [
        "# fig = px.violin(df, y=\"Age\", color=\"Gender\", x=\"Company\", color_discrete_map=cab_color, title=\"Age Distribution Between Gender and Company\",  box=True)\n",
        "# fig.update_layout(title_x=0.5, width=800,height=500)\n",
        "# fig.show();"
      ],
      "metadata": {
        "id": "UcUKssLo1rFK"
      },
      "execution_count": 51,
      "outputs": []
    },
    {
      "cell_type": "markdown",
      "source": [
        "- Customers aged 20 to 40 dominate ridership for both cab services, with no significant difference in age distribution between the two companies."
      ],
      "metadata": {
        "id": "F8WZVyQLMqlk"
      }
    },
    {
      "cell_type": "code",
      "source": [],
      "metadata": {
        "id": "3ljOPo57MptW"
      },
      "execution_count": 51,
      "outputs": []
    },
    {
      "cell_type": "code",
      "execution_count": 52,
      "metadata": {
        "id": "e-WCEUD14lS8"
      },
      "outputs": [],
      "source": [
        "# p_correlation = df['KM Travelled'].corr(df['Profit'])\n",
        "# print(p_correlation)"
      ]
    },
    {
      "cell_type": "markdown",
      "metadata": {
        "id": "_MSOe2pDRWLv"
      },
      "source": [
        "- Correlation Between Distance and Profit\n",
        "- Prefence Between Gender,Age, city and Income class,\n",
        "- Trends in Years, Months and Day of week"
      ]
    },
    {
      "cell_type": "code",
      "execution_count": 53,
      "metadata": {
        "id": "xzle7XE7M0b7"
      },
      "outputs": [],
      "source": [
        "# # New vs Existing Users\n",
        "# df_first_Travel=df.groupby([\"Customer ID\"])[\"Date of Travel\"].min().reset_index()\n",
        "# df_first_Travel.columns=[\"Customer ID\", \"FirstTravelDate\"]\n",
        "# df=pd.merge(df, df_first_Travel, on=\"Customer ID\")\n",
        "# df[\"UserType\"]=\"New\"\n",
        "# df.loc[df[\"Date of Travel\"]>df[\"FirstTravelDate\"], \"UserType\"]=\"Existing\"\n",
        "\n",
        "# df.head()\n",
        "\n"
      ]
    },
    {
      "cell_type": "code",
      "execution_count": 54,
      "metadata": {
        "id": "mcdtvkRjucov"
      },
      "outputs": [],
      "source": [
        "# # New vs Existing User Revenue Analysis\n",
        "# df_new_Profit=df.groupby([\"Month\", \"Year\", \"UserType\"])[\"Profit\"].sum().reset_index()\n",
        "# fig_dims=(6,6)\n",
        "# plt.figure()\n",
        "# sns.relplot(x=\"Month\", y=\"Profit\", hue=\"UserType\", data=df_new_Profit, kind=\"line\")\n",
        "# plt.title(\"New vs Existing Customer Profit Overview\")\n",
        "# plt.xlabel(\"Month\")\n",
        "# plt.ylabel(\"Profit\");"
      ]
    },
    {
      "cell_type": "code",
      "execution_count": 55,
      "metadata": {
        "id": "6QNtzB46I2DX"
      },
      "outputs": [],
      "source": [
        "# # Recency Calculation\n",
        "# df_user=pd.DataFrame(df[\"Customer ID\"].unique())\n",
        "# df_user.columns=[\"Customer ID\"]\n",
        "# df_last_travel=df.groupby([\"Customer ID\"])[\"Date of Travel\", \"Company\"].max().reset_index()\n",
        "# df_last_travel.columns=[\"Customer ID\", \"LastTravelDate\",\"Company\"]\n",
        "# df_last_travel[\"Recency\"]= (df_last_travel[\"LastTravelDate\"].max()-df_last_travel[\"LastTravelDate\"]).dt.days\n",
        "# df_recency=pd.merge(df_user, df_last_travel[[\"Customer ID\", \"Recency\", \"Company\"]])\n",
        "# df_recency.head()"
      ]
    },
    {
      "cell_type": "code",
      "execution_count": 56,
      "metadata": {
        "id": "OU54KkcT5yxS"
      },
      "outputs": [],
      "source": [
        "# # Look at the distribution of Recency\n",
        "# plt.figure(figsize=(15,10))\n",
        "# #sns.distplot(df_recency[\"Recency\"], hue=\"Company\")\n",
        "# sns.displot(df_recency, x=\"Recency\", hue=\"Company\", kind=\"kde\", fill=True)\n",
        "# plt.title(\"Recency Distribution Within the Customers\")\n",
        "# plt.xlabel(\"Recency\")\n",
        "# plt.ylabel(\"Customer Count\");"
      ]
    },
    {
      "cell_type": "markdown",
      "metadata": {
        "id": "OXs3WQAATZvj"
      },
      "source": []
    },
    {
      "cell_type": "code",
      "execution_count": 57,
      "metadata": {
        "id": "lhfGfHoqTa4H"
      },
      "outputs": [],
      "source": [
        "# df_recency.to_csv('Recency')\n",
        "# files.download('NewvsExisting.csv')"
      ]
    },
    {
      "cell_type": "code",
      "execution_count": 58,
      "metadata": {
        "id": "Oz-1dn9S82sK"
      },
      "outputs": [],
      "source": [
        "# # frequency of orders\n",
        "# df_frequency=df.groupby([\"Company\", \"Customer ID\"])[\"Date of Travel\"].count().reset_index()\n",
        "# df_frequency.columns=[\"Company\", \"Customer ID\", \"Frequency\"]\n",
        "# df_frequency=pd.merge(df_user, df_frequency, on=\"Customer ID\")\n",
        "# df_frequency.head()"
      ]
    },
    {
      "cell_type": "code",
      "execution_count": 59,
      "metadata": {
        "id": "uFBGhqPVAh-S"
      },
      "outputs": [],
      "source": [
        "# df_frequency.to_csv('frequency.csv')\n",
        "# files.download('frequency.csv')"
      ]
    },
    {
      "cell_type": "code",
      "execution_count": 60,
      "metadata": {
        "id": "BPTUsU8F-OQJ"
      },
      "outputs": [],
      "source": [
        "# # Review of Frequency Distribution\n",
        "# plt.figure(figsize=(7,5))\n",
        "# #sns.distplot(df_frequency, x=\"Frequency\", hue=\"Company\")\n",
        "# sns.displot(df_frequency, x=\"Frequency\", hue=\"Company\", kind=\"kde\", fill=True)\n",
        "# plt.title(\"Frequency Distribution\")\n",
        "# plt.xlabel(\"Frequency\")\n",
        "# plt.ylabel(\"Count\")"
      ]
    },
    {
      "cell_type": "code",
      "execution_count": 61,
      "metadata": {
        "id": "UCk046TV_o8V"
      },
      "outputs": [],
      "source": [
        "# fig = px.histogram(df_frequency, x=\"Frequency\", color=\"Company\", title=\"Frequency Distribution\")\n",
        "# fig.show()"
      ]
    },
    {
      "cell_type": "code",
      "execution_count": 62,
      "metadata": {
        "id": "I-DcEQK8K9EO"
      },
      "outputs": [],
      "source": [
        "# df_customer_revenue=df.groupby([\"Company\", \"Customer ID\"])[\"Profit\"].sum().reset_index()\n",
        "# df_customer_revenue=pd.merge(df_user, df_customer_revenue, on=\"Customer ID\")\n",
        "# df_customer_revenue.head()\n"
      ]
    },
    {
      "cell_type": "code",
      "execution_count": 63,
      "metadata": {
        "id": "l8aM-4-8LUMD"
      },
      "outputs": [],
      "source": [
        "# # Revenue Distribution\n",
        "# plt.figure(figsize=(15,10))\n",
        "# #sns.distplot(df_customer_revenue.query(\"Profit < 10000\")[\"Profit\"])\n",
        "# #sns.displot(df_customer_revenue, x=\"Profit\", hue=\"Company\", kind=\"kde\", fill=True);\n",
        "# fig = px.histogram(df_customer_revenue, x=\"Profit\", color=\"Company\", title=\"Profit Distribution\")\n",
        "# fig.show()"
      ]
    },
    {
      "cell_type": "code",
      "execution_count": 64,
      "metadata": {
        "id": "OM3c995-i8Dc"
      },
      "outputs": [],
      "source": [
        "# #Peak days that people hail Cabs\n",
        "# days = [day for day, df in df.groupby('Day_of_week')]\n",
        "# #plt.plot(days, df.groupby(['Day_of_week']).count());\n",
        "# sns.lineplot(data=df, x=\"Day_of_week\", y=\"Profit\", hue=\"Company\");"
      ]
    },
    {
      "cell_type": "code",
      "execution_count": 65,
      "metadata": {
        "id": "vSDxiqb56dUv"
      },
      "outputs": [],
      "source": [
        "# #customer segmentation\n",
        "# sns.catplot(x=\"Gender\", y=\"Profit\", hue=\"Company\", kind=\"bar\", data=df);"
      ]
    },
    {
      "cell_type": "code",
      "execution_count": 65,
      "metadata": {
        "id": "-uoq7-0hW3Sq"
      },
      "outputs": [],
      "source": []
    }
  ],
  "metadata": {
    "colab": {
      "provenance": [],
      "authorship_tag": "ABX9TyMVOzhfj78/47cr9h24YpA4",
      "include_colab_link": true
    },
    "kernelspec": {
      "display_name": "Python 3",
      "name": "python3"
    },
    "language_info": {
      "name": "python"
    }
  },
  "nbformat": 4,
  "nbformat_minor": 0
}